{
 "cells": [
  {
   "cell_type": "code",
   "execution_count": 1,
   "metadata": {},
   "outputs": [],
   "source": [
    "import numpy as np\n",
    "import matplotlib.pyplot as plt\n",
    "from matplotlib.lines import Line2D\n",
    "import matplotlib as mpl\n",
    "\n",
    "import math \n",
    "\n",
    "from bin import *\n",
    "\n",
    "from IPython.display import clear_output\n",
    "%load_ext autoreload\n",
    "%autoreload 2"
   ]
  },
  {
   "cell_type": "code",
   "execution_count": 2,
   "metadata": {},
   "outputs": [],
   "source": [
    "mpl.use(\"pgf\")\n",
    "\n",
    "mpl.rcParams.update({\n",
    "    \"pgf.texsystem\": \"lualatex\",\n",
    "    'font.family': 'serif',\n",
    "    'font.size' : 8,\n",
    "    'text.usetex': True,\n",
    "    'pgf.rcfonts': False,\n",
    "    'pgf.preamble': tex_preamble,\n",
    "})"
   ]
  },
  {
   "cell_type": "markdown",
   "metadata": {},
   "source": [
    "## Setup"
   ]
  },
  {
   "cell_type": "code",
   "execution_count": 3,
   "metadata": {},
   "outputs": [],
   "source": [
    "n = 2000\n",
    "d = 0.3;\n",
    "σ = 8.0\n",
    "\n",
    "[a1,b1],[a2,b2] = support_gen(n,d,σ)\n",
    "\n",
    "λmin_ = a1-.1\n",
    "λmax_ = b2+.1\n",
    "a = (b1+a2)/2"
   ]
  },
  {
   "cell_type": "code",
   "execution_count": 4,
   "metadata": {},
   "outputs": [],
   "source": [
    "np.random.seed(0)\n",
    "A = mat_samp_full(n,d,σ)@np.eye(n)\n",
    "Λ = np.linalg.eigvalsh(A)\n",
    "A = np.diag(Λ)\n",
    "\n",
    "λmin = np.min(Λ)\n",
    "λmax = np.max(Λ)\n",
    "\n",
    "b = np.random.randn(n)\n",
    "b /= np.linalg.norm(b)"
   ]
  },
  {
   "cell_type": "code",
   "execution_count": 5,
   "metadata": {},
   "outputs": [],
   "source": [
    "w = a\n",
    "\n",
    "# norm to measure function approximation and linear system errors\n",
    "B = (Λ-w)**2\n",
    "\n",
    "kappa_w = np.max(np.abs(Λ-w)) / np.min(np.abs(Λ-w))"
   ]
  },
  {
   "cell_type": "code",
   "execution_count": 6,
   "metadata": {},
   "outputs": [],
   "source": [
    "K = 201\n",
    "Q,(a_,b_) = lanczos_reorth(A,b,K,reorth=K)"
   ]
  },
  {
   "cell_type": "code",
   "execution_count": 7,
   "metadata": {},
   "outputs": [],
   "source": [
    "plot_tol = 1e-14"
   ]
  },
  {
   "cell_type": "code",
   "execution_count": 8,
   "metadata": {},
   "outputs": [],
   "source": [
    "T = np.zeros((3,K))\n",
    "T[0,1:] = b_[:-1]\n",
    "T[1] = a_-w\n",
    "T[2,:-1] = b_[:-1]\n",
    "\n",
    "e1 = np.zeros(K+1)\n",
    "e1[0] = 1"
   ]
  },
  {
   "cell_type": "code",
   "execution_count": 9,
   "metadata": {},
   "outputs": [],
   "source": [
    "err_CG = np.full(K,np.nan)\n",
    "\n",
    "for k in range(0,K):\n",
    "    try:\n",
    "        e = (1/(Λ-w))*b - np.linalg.norm(b)*Q[:,:k+1]@sp.linalg.solve_banded((1,1),T[:,:k+1],e1[:k+1])\n",
    "        err_CG[k] = np.sqrt( e.T*B@e )\n",
    "    except: pass\n",
    "    \n",
    "    if err_CG[k] < plot_tol:\n",
    "        break"
   ]
  },
  {
   "cell_type": "code",
   "execution_count": 10,
   "metadata": {},
   "outputs": [],
   "source": [
    "res_CG = np.full(K,np.nan)\n",
    "\n",
    "for k in range(0,K):\n",
    "    try:\n",
    "        r = b - np.linalg.norm(b)*(Λ-w)*(Q[:,:k+1]@sp.linalg.solve_banded((1,1),T[:,:k+1],e1[:k+1]))\n",
    "        res_CG[k] = np.sqrt( r@r )\n",
    "    except: pass\n",
    "    \n",
    "    if res_CG[k] < plot_tol:\n",
    "        break"
   ]
  },
  {
   "cell_type": "markdown",
   "metadata": {},
   "source": [
    "## $f(x) = \\operatorname{step}(x-a)$, $\\Gamma =$ double circles"
   ]
  },
  {
   "cell_type": "code",
   "execution_count": 11,
   "metadata": {},
   "outputs": [],
   "source": [
    "def f(x):\n",
    "    return (np.abs(np.real(x))>a)/x\n",
    "\n",
    "fAb = f(Λ)*b"
   ]
  },
  {
   "cell_type": "code",
   "execution_count": 12,
   "metadata": {},
   "outputs": [],
   "source": [
    "err_lanczos = np.full(K,np.nan)\n",
    "\n",
    "for k in range(0,K):\n",
    "    try:\n",
    "        e = fAb - lanczos_FA(f,Q,a_,b_,k,normb=np.linalg.norm(b))\n",
    "        err_lanczos[k] = np.sqrt( e.T*B@e )\n",
    "    except: pass\n",
    "    \n",
    "    if err_lanczos[k] < plot_tol:\n",
    "        break"
   ]
  },
  {
   "cell_type": "code",
   "execution_count": 13,
   "metadata": {},
   "outputs": [],
   "source": [
    "a_priori_bound = np.full(K,np.inf)\n",
    "a_posteriori_bound = np.full(K,np.inf)\n",
    "\n",
    "def Gamma1(t):\n",
    "    radius = λmax-w\n",
    "\n",
    "    z = radius*(np.exp(1j*t))+λmax\n",
    "    dz = radius*1j*np.exp(1j*t)\n",
    "    \n",
    "    return z,dz\n",
    "\n",
    "def Gamma2(t):\n",
    "    radius = w-λmin\n",
    "\n",
    "    z = radius*(np.exp(1j*t))+λmin\n",
    "    dz = radius*1j*np.exp(1j*t)\n",
    "    \n",
    "    return z,dz\n",
    "\n",
    "\n",
    "for k in range(0,K):\n",
    "    a_priori_bound[k-1] = 2*(get_a_priori_bound(f,Gamma1,[0,np.pi],k,w,λmin_,λmax_)[0]+\\\n",
    "                             get_a_priori_bound(f,Gamma2,[0,np.pi],k,w,λmin_,λmax_)[0])\n",
    "    a_posteriori_bound[k-1] = 2*(get_a_posteriori_bound(f,Gamma1,[0,np.pi],a_[:k],b_[:k-1],w,λmin_,λmax_)[0]+\\\n",
    "                                 get_a_posteriori_bound(f,Gamma2,[0,np.pi],a_[:k],b_[:k-1],w,λmin_,λmax_)[0])"
   ]
  },
  {
   "cell_type": "code",
   "execution_count": 14,
   "metadata": {},
   "outputs": [],
   "source": [
    "fig = plt.figure(figsize=(figure_width*cm,figure_height*cm))\n",
    "ax = fig.add_axes([left, bottom, width, height])\n",
    "\n",
    "ks = np.arange(K)\n",
    "\n",
    "ax.plot(ks,((λmax-a)/a*err_CG),\\\n",
    "        **line_styles['l4'])\n",
    "\n",
    "ax.plot(ks,(a_priori_bound*err_CG),\\\n",
    "        **line_styles['l3'])\n",
    "ax.plot(ks,(a_posteriori_bound*err_CG),\\\n",
    "        **line_styles['l2'])\n",
    "\n",
    "ax.plot(ks,err_lanczos,\\\n",
    "        **line_styles['l1'])\n",
    "\n",
    "ax.set_yscale('log')\n",
    "\n",
    "plt.grid(True,linestyle=':',linewidth=.5)\n",
    "\n",
    "#plt.ylim(1e-14,5e-1)\n",
    "\n",
    "plt.xlabel('number of matvecs: $k$')\n",
    "\n",
    "plt.savefig('imgs/ch7_pcr.pdf')\n",
    "#plt.close()"
   ]
  },
  {
   "cell_type": "code",
   "execution_count": null,
   "metadata": {},
   "outputs": [],
   "source": []
  }
 ],
 "metadata": {
  "kernelspec": {
   "display_name": "Python 3",
   "language": "python",
   "name": "python3"
  },
  "language_info": {
   "codemirror_mode": {
    "name": "ipython",
    "version": 3
   },
   "file_extension": ".py",
   "mimetype": "text/x-python",
   "name": "python",
   "nbconvert_exporter": "python",
   "pygments_lexer": "ipython3",
   "version": "3.8.3"
  }
 },
 "nbformat": 4,
 "nbformat_minor": 4
}
