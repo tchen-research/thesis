{
 "cells": [
  {
   "cell_type": "code",
   "execution_count": 1,
   "metadata": {},
   "outputs": [],
   "source": [
    "import numpy as np\n",
    "import matplotlib.pyplot as plt\n",
    "import matplotlib as mpl\n",
    "\n",
    "from bin import *\n",
    "\n",
    "from IPython.display import clear_output\n",
    "%load_ext autoreload\n",
    "%autoreload 2"
   ]
  },
  {
   "cell_type": "code",
   "execution_count": 2,
   "metadata": {},
   "outputs": [],
   "source": [
    "mpl.use(\"pgf\")\n",
    "\n",
    "mpl.rcParams.update({\n",
    "    \"pgf.texsystem\": \"lualatex\",\n",
    "    'font.family': 'serif',\n",
    "    'font.size' : 8,\n",
    "    'text.usetex': True,\n",
    "    'pgf.rcfonts': False,\n",
    "    'pgf.preamble': tex_preamble,\n",
    "})"
   ]
  },
  {
   "cell_type": "code",
   "execution_count": 3,
   "metadata": {},
   "outputs": [],
   "source": [
    "n = 100\n",
    "Λ = model_problem_spectrum(n,.6,1e3)\n",
    "λmin = np.min(Λ)\n",
    "λmax = np.max(Λ)\n",
    "\n",
    "A = np.diag(Λ)\n",
    "\n",
    "v = np.ones(n)\n",
    "v /= np.linalg.norm(v)\n",
    "\n",
    "f = lambda x: 1/x\n",
    "\n",
    "fAv = np.diag(f(Λ))@v"
   ]
  },
  {
   "cell_type": "code",
   "execution_count": 4,
   "metadata": {},
   "outputs": [],
   "source": [
    "k_max = 44\n",
    "Q,(α,β) = lanczos_reorth(A,v,k_max,reorth=0)\n",
    "\n",
    "err_FA = np.full(k_max,np.nan)\n",
    "for k in range(k_max):\n",
    "    err_FA[k] = np.linalg.norm(np.diag(np.sqrt(Λ))@(fAv - lanczos_FA(f,Q,α,β,k)))/np.linalg.norm(np.diag(np.sqrt(Λ))@v)"
   ]
  },
  {
   "cell_type": "code",
   "execution_count": 5,
   "metadata": {},
   "outputs": [],
   "source": [
    "k_max = 23\n",
    "Q_ro,(α_ro,β_ro) = lanczos_reorth(A,v,k_max,reorth=k_max)\n",
    "\n",
    "err_FA_ro = np.full(k_max,np.nan)\n",
    "for k in range(k_max):\n",
    "    err_FA_ro[k] = np.linalg.norm(np.diag(np.sqrt(Λ))@(fAv - lanczos_FA(f,Q_ro,α_ro,β_ro,k)))/np.linalg.norm(np.diag(np.sqrt(Λ))@v)"
   ]
  },
  {
   "cell_type": "code",
   "execution_count": 6,
   "metadata": {},
   "outputs": [],
   "source": [
    "k_max = 44\n",
    "err_ℐ = np.full(k_max,np.nan)\n",
    "ℐ = np.linspace(λmin,λmax,2000)\n",
    "\n",
    "i=[0]\n",
    "for k in range(k_max):\n",
    "    i_add = np.argmax(np.min(np.abs(ℐ[i]-ℐ[:,None]),axis=1))\n",
    "    i = np.append(i,i_add)\n",
    "    i = np.sort(i)\n",
    "    i,p,ub,lb = remez(f,ℐ,k,i=i,tol=1e-12,max_iter=300)\n",
    "    err_ℐ[k] = ub"
   ]
  },
  {
   "cell_type": "code",
   "execution_count": 7,
   "metadata": {},
   "outputs": [
    {
     "name": "stderr",
     "output_type": "stream",
     "text": [
      "/home/tyler/Documents/GitHub/Research_Code/thesis/code/bin/remez.py:37: UserWarning: failed to converge to specified tollerence for degree 2\n",
      "  warnings.warn(f\"failed to converge to specified tollerence for degree {k}\")\n",
      "/home/tyler/Documents/GitHub/Research_Code/thesis/code/bin/remez.py:37: UserWarning: failed to converge to specified tollerence for degree 14\n",
      "  warnings.warn(f\"failed to converge to specified tollerence for degree {k}\")\n",
      "/home/tyler/Documents/GitHub/Research_Code/thesis/code/bin/remez.py:37: UserWarning: failed to converge to specified tollerence for degree 15\n",
      "  warnings.warn(f\"failed to converge to specified tollerence for degree {k}\")\n",
      "/home/tyler/Documents/GitHub/Research_Code/thesis/code/bin/remez.py:37: UserWarning: failed to converge to specified tollerence for degree 16\n",
      "  warnings.warn(f\"failed to converge to specified tollerence for degree {k}\")\n",
      "/home/tyler/Documents/GitHub/Research_Code/thesis/code/bin/remez.py:37: UserWarning: failed to converge to specified tollerence for degree 17\n",
      "  warnings.warn(f\"failed to converge to specified tollerence for degree {k}\")\n"
     ]
    }
   ],
   "source": [
    "k_max = 23\n",
    "err_Λ = np.full(k_max,np.nan)\n",
    "\n",
    "i=[1]\n",
    "for k in range(k_max):\n",
    "    i_add = np.argmax(np.min(np.abs(Λ[i]-Λ[:,None]),axis=1))\n",
    "    i = np.append(i,i_add)\n",
    "    i = np.sort(i)\n",
    "    i,p,ub,lb = remez(f,Λ,k,i=i,tol=1e-10,max_iter=300)\n",
    "    err_Λ[k] = ub"
   ]
  },
  {
   "cell_type": "code",
   "execution_count": 8,
   "metadata": {},
   "outputs": [],
   "source": [
    "fig = plt.figure(figsize=(figure_width*cm,figure_height*cm))\n",
    "\n",
    "ax = fig.add_axes([left, bottom, width, height])\n",
    "\n",
    "ax.plot(err_Λ,**line_styles['l4'],label='bound on $\\Lambda$')\n",
    "ax.plot(err_ℐ,**line_styles['l3'],label=r'bound on $\\mathcal{I}$')\n",
    "ax.plot(err_FA_ro,**line_styles['l2'],label='reorth')\n",
    "ax.plot(err_FA,**line_styles['l1'],label='no reorth')\n",
    "\n",
    "ax.grid(True,linestyle=':',linewidth=.5)\n",
    "\n",
    "ax.set_xlabel('number of matvecs: $k$')\n",
    "ax.set_yscale('log')\n",
    "\n",
    "#plt.savefig('imgs/ch1_unif_vs_spec.pgf')\n",
    "plt.savefig('imgs/ch1_unif_vs_spec.pdf')\n",
    "plt.close()"
   ]
  },
  {
   "cell_type": "code",
   "execution_count": null,
   "metadata": {},
   "outputs": [],
   "source": []
  }
 ],
 "metadata": {
  "kernelspec": {
   "display_name": "Python 3",
   "language": "python",
   "name": "python3"
  },
  "language_info": {
   "codemirror_mode": {
    "name": "ipython",
    "version": 3
   },
   "file_extension": ".py",
   "mimetype": "text/x-python",
   "name": "python",
   "nbconvert_exporter": "python",
   "pygments_lexer": "ipython3",
   "version": "3.8.3"
  }
 },
 "nbformat": 4,
 "nbformat_minor": 4
}
