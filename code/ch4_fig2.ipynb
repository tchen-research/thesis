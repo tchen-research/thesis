{
 "cells": [
  {
   "cell_type": "code",
   "execution_count": 1,
   "metadata": {},
   "outputs": [],
   "source": [
    "import numpy as np\n",
    "import matplotlib.pyplot as plt\n",
    "import matplotlib as mpl\n",
    "\n",
    "import math \n",
    "\n",
    "from bin import *\n",
    "\n",
    "from IPython.display import clear_output\n",
    "%load_ext autoreload\n",
    "%autoreload 2"
   ]
  },
  {
   "cell_type": "code",
   "execution_count": 2,
   "metadata": {},
   "outputs": [],
   "source": [
    "mpl.use(\"pgf\")\n",
    "\n",
    "mpl.rcParams.update({\n",
    "    \"pgf.texsystem\": \"lualatex\",\n",
    "    'font.family': 'serif',\n",
    "    'font.size' : 8,\n",
    "    'text.usetex': True,\n",
    "    'pgf.rcfonts': False,\n",
    "    'pgf.preamble': tex_preamble,\n",
    "})"
   ]
  },
  {
   "cell_type": "code",
   "execution_count": 3,
   "metadata": {},
   "outputs": [],
   "source": [
    "def mu_T(x,a,b): \n",
    "    with np.errstate(divide='ignore',invalid='ignore'):\n",
    "        return 1/(np.pi)/(np.sqrt((x-a)*(b-x)))"
   ]
  },
  {
   "cell_type": "code",
   "execution_count": 4,
   "metadata": {},
   "outputs": [],
   "source": [
    "np.random.seed(0)\n",
    "\n",
    "kn=23\n",
    "kk=11\n",
    "\n",
    "λ = np.array([(-1)**i*math.comb(kn-kk-i,kk-i) for i in range(kk+1)])\n",
    "mult = np.array([math.comb(kn,i) - math.comb(kn,i-1) if i>0 else 1 for i in range(kk+1)])\n",
    "\n",
    "idx = np.argsort(λ)\n",
    "λ,mult = λ[idx], mult[idx]\n",
    "\n",
    "A = sp.sparse.load_npz(f'matrices/K_{kn}_{kk}.npz')\n",
    "n = A.shape[0]\n",
    "n_trials = 1\n",
    "\n",
    "v = np.sign(np.random.rand(n)-.5) / np.sqrt(n)\n",
    "\n",
    "k = 12\n",
    "Q,(α,β) = lanczos_reorth(A,v,k)"
   ]
  },
  {
   "cell_type": "code",
   "execution_count": 5,
   "metadata": {},
   "outputs": [],
   "source": [
    "a = -kk-.1\n",
    "b = kk+1.1\n",
    "\n",
    "kT = 250\n",
    "sT = 2*kT\n",
    "αT = np.ones(sT+1)*(a+b)/2\n",
    "βT = np.ones(sT+1)*(b-a)/4\n",
    "βT[0] *= np.sqrt(2)\n",
    "mT = get_chebyshev_moments(A,v,kT,a,b)"
   ]
  },
  {
   "cell_type": "code",
   "execution_count": 6,
   "metadata": {},
   "outputs": [],
   "source": [
    "θ,ω = get_gq(k,α[:12],β[:11])\n",
    "xx = np.linspace(a,b,5000)\n",
    "AQ_T = eval_poly(xx,mT*jackson_weights(2*kT+1),αT,βT)"
   ]
  },
  {
   "cell_type": "code",
   "execution_count": 7,
   "metadata": {},
   "outputs": [],
   "source": [
    "fig = plt.figure(figsize=(figure_width*cm,figure_height*cm))\n",
    "\n",
    "ax = fig.add_axes([left, bottom, width, height])\n",
    "\n",
    "ax.plot(xx,AQ_T*mu_T(xx,a,b),color=colors[3],ls=linestyles[3],lw=.85)\n",
    "ax.plot(xx,AQ_T*mu_T(xx,a,b),color=colors[3],lw=.2)\n",
    "\n",
    "ax.plot(λ,mult/sum(mult),ls='None',ms=5,marker='s',color=colors[4],markerfacecolor='None')\n",
    "ax.plot(θ,ω,ls='None',marker=markers[1],ms=3,color=colors[1])\n",
    "\n",
    "ax.grid(True,linestyle=':',linewidth=.5)\n",
    "\n",
    "ax.set_xticks(np.arange(int(a),round(b)+1), minor=True)\n",
    "ax.set_xticks(λ)\n",
    "\n",
    "ax.set_ylim(0,20)\n",
    "ax.set_yscale('symlog',linthreshy=1e-8)\n",
    "\n",
    "plt.savefig('imgs/ch4_Kneser_smoothed.pdf')\n",
    "plt.close()"
   ]
  }
 ],
 "metadata": {
  "kernelspec": {
   "display_name": "Python 3",
   "language": "python",
   "name": "python3"
  },
  "language_info": {
   "codemirror_mode": {
    "name": "ipython",
    "version": 3
   },
   "file_extension": ".py",
   "mimetype": "text/x-python",
   "name": "python",
   "nbconvert_exporter": "python",
   "pygments_lexer": "ipython3",
   "version": "3.8.3"
  }
 },
 "nbformat": 4,
 "nbformat_minor": 4
}
