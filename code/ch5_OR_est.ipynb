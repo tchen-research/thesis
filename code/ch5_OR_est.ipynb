{
 "cells": [
  {
   "cell_type": "code",
   "execution_count": 1,
   "metadata": {},
   "outputs": [],
   "source": [
    "import numpy as np\n",
    "import matplotlib.pyplot as plt\n",
    "import matplotlib as mpl\n",
    "\n",
    "import math \n",
    "\n",
    "from bin import *\n",
    "\n",
    "from IPython.display import clear_output\n",
    "%load_ext autoreload\n",
    "%autoreload 2"
   ]
  },
  {
   "cell_type": "code",
   "execution_count": 2,
   "metadata": {},
   "outputs": [],
   "source": [
    "mpl.use(\"pgf\")\n",
    "\n",
    "mpl.rcParams.update({\n",
    "    \"pgf.texsystem\": \"lualatex\",\n",
    "    'font.family': 'serif',\n",
    "    'font.size' : 8,\n",
    "    'text.usetex': True,\n",
    "    'pgf.rcfonts': False,\n",
    "    'pgf.preamble': tex_preamble,\n",
    "})"
   ]
  },
  {
   "cell_type": "code",
   "execution_count": 3,
   "metadata": {},
   "outputs": [],
   "source": [
    "n = 300\n",
    "Λ = model_problem_spectrum(n,.8,1e3)"
   ]
  },
  {
   "cell_type": "code",
   "execution_count": 4,
   "metadata": {},
   "outputs": [],
   "source": [
    "M = (0,0,1)\n",
    "N = (1,0,1)"
   ]
  },
  {
   "cell_type": "code",
   "execution_count": 5,
   "metadata": {},
   "outputs": [],
   "source": [
    "A = np.diag(Λ)\n",
    "\n",
    "b_vec = np.ones(n,dtype=np.double)\n",
    "b_vec /= np.linalg.norm(b_vec)"
   ]
  },
  {
   "cell_type": "code",
   "execution_count": 6,
   "metadata": {},
   "outputs": [],
   "source": [
    "K = 90\n",
    "K_ro = 45\n",
    "d = 4\n",
    "Q,(a_,b_) = lanczos_reorth(A,b_vec,K+d,reorth=0)\n",
    "Q_ro,(a_ro_,b_ro_) = lanczos_reorth(A,b_vec,K_ro+d,reorth=K_ro+d)\n",
    "\n",
    "T = np.diag(a_) + np.diag(b_[:-1],-1) + np.diag(b_[:-1],1)\n",
    "T_ro = np.diag(a_ro_) + np.diag(b_ro_[:-1],-1) + np.diag(b_ro_[:-1],1)\n",
    "\n",
    "e0 = np.zeros(K+d)\n",
    "e0[0] = 1"
   ]
  },
  {
   "cell_type": "code",
   "execution_count": 7,
   "metadata": {},
   "outputs": [],
   "source": [
    "M_func = lambda x: (M[0]*x**2+M[1]*x+M[2])\n",
    "N_func = lambda x: (N[0]*x**2+N[1]*x+N[2])\n",
    "r = lambda x: M_func(x)/N_func(x)\n",
    "\n",
    "rAb = r(Λ)*b_vec\n",
    "Hsqrt = np.diag(N_func(Λ)**.5)"
   ]
  },
  {
   "cell_type": "code",
   "execution_count": 8,
   "metadata": {},
   "outputs": [],
   "source": [
    "error_OR = np.full(K+d,np.nan)\n",
    "error_OR_ro = np.full(K_ro+d,np.nan)\n",
    "\n",
    "x_OR = np.full((n,K+d),np.nan)\n",
    "x_OR_ro = np.full((n,K_ro+d),np.nan)\n",
    "\n",
    "for i in range(1,K+d):\n",
    "\n",
    "    lan_lm = streaming_banded_rational(n,i,M,N)\n",
    "    for j in range(i):\n",
    "        lan_lm.read_stream(Q[:,j],a_[j],b_[j])\n",
    "\n",
    "    lan_lm.finish_up()      \n",
    "\n",
    "    x_OR[:,i] = lan_lm()    \n",
    "    error_OR[i] = np.linalg.norm(Hsqrt*(rAb - x_OR[:,i]))\n",
    "\n",
    "\n",
    "for i in range(1,K_ro+d):\n",
    "\n",
    "    lan_lm = streaming_banded_rational(n,i,M,N)\n",
    "    for j in range(i):\n",
    "        lan_lm.read_stream(Q_ro[:,j],a_ro_[j],b_ro_[j])\n",
    "\n",
    "    lan_lm.finish_up()      \n",
    "\n",
    "    x_OR_ro[:,i] = lan_lm()\n",
    "    error_OR_ro[i] = np.linalg.norm(Hsqrt*(rAb - x_OR_ro[:,i]))"
   ]
  },
  {
   "cell_type": "code",
   "execution_count": 9,
   "metadata": {},
   "outputs": [],
   "source": [
    "bound_OR = np.full(K,np.nan)\n",
    "bound_OR_ro = np.full(K_ro,np.nan)\n",
    "\n",
    "for k in range(1,K):\n",
    "    bound_OR[k] = 0\n",
    "    for i in range(k,k+d):\n",
    "        bound_OR[k] += np.linalg.norm(Hsqrt*(x_OR[:,i+1] - x_OR[:,i]))**2\n",
    "        \n",
    "for k in range(1,K_ro):\n",
    "    bound_OR_ro[k] = 0\n",
    "    for i in range(k,k+d):\n",
    "        bound_OR_ro[k] += np.linalg.norm(Hsqrt*(x_OR_ro[:,i+1] - x_OR_ro[:,i]))**2"
   ]
  },
  {
   "cell_type": "code",
   "execution_count": 10,
   "metadata": {},
   "outputs": [],
   "source": [
    "fig = plt.figure(figsize=(figure_width*cm,figure_height*cm))\n",
    "\n",
    "ax = fig.add_axes([left, bottom, width, height])\n",
    "\n",
    "ax.plot(np.sqrt(bound_OR),**line_styles['l2'])\n",
    "ax.plot(error_OR,**line_styles['l1'])\n",
    "\n",
    "ax.plot(np.sqrt(np.abs(bound_OR_ro)),**line_styles['l4'])\n",
    "ax.plot(error_OR_ro,**line_styles['l3'])\n",
    "\n",
    "ax.grid(True,linestyle=':',linewidth=.5)\n",
    "\n",
    "ax.set_yscale('log')\n",
    "ax.set_ylim(1e-14,1e1)\n",
    "\n",
    "ax.set_xlabel('number of matvecs: $k$')\n",
    "\n",
    "plt.savefig('imgs/ch5_OR_error_est.pdf')\n",
    "plt.close()"
   ]
  },
  {
   "cell_type": "code",
   "execution_count": null,
   "metadata": {},
   "outputs": [],
   "source": []
  }
 ],
 "metadata": {
  "kernelspec": {
   "display_name": "Python 3",
   "language": "python",
   "name": "python3"
  },
  "language_info": {
   "codemirror_mode": {
    "name": "ipython",
    "version": 3
   },
   "file_extension": ".py",
   "mimetype": "text/x-python",
   "name": "python",
   "nbconvert_exporter": "python",
   "pygments_lexer": "ipython3",
   "version": "3.8.3"
  }
 },
 "nbformat": 4,
 "nbformat_minor": 4
}
