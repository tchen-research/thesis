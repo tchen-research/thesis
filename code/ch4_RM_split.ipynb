{
 "cells": [
  {
   "cell_type": "code",
   "execution_count": 1,
   "metadata": {},
   "outputs": [],
   "source": [
    "import numpy as np\n",
    "import matplotlib.pyplot as plt\n",
    "import matplotlib as mpl\n",
    "\n",
    "from mpl_toolkits.axes_grid1.inset_locator import inset_axes\n",
    "from mpl_toolkits.axes_grid1.inset_locator import mark_inset\n",
    "\n",
    "from bin import *\n",
    "\n",
    "from IPython.display import clear_output\n",
    "%load_ext autoreload\n",
    "%autoreload 2"
   ]
  },
  {
   "cell_type": "code",
   "execution_count": 2,
   "metadata": {},
   "outputs": [],
   "source": [
    "mpl.use(\"pgf\")\n",
    "\n",
    "mpl.rcParams.update({\n",
    "    \"pgf.texsystem\": \"lualatex\",\n",
    "    'font.family': 'serif',\n",
    "    'font.size' : 8,\n",
    "    'text.usetex': True,\n",
    "    'pgf.rcfonts': False,\n",
    "    'pgf.preamble': tex_preamble,\n",
    "})"
   ]
  },
  {
   "cell_type": "code",
   "execution_count": 3,
   "metadata": {},
   "outputs": [],
   "source": [
    "class mat_samp_full():\n",
    "    \n",
    "    def __init__(self,N,d,σ,dist='Gaussian'):\n",
    "    \n",
    "        M = int(np.floor(N/d))\n",
    "        if dist=='Rademacher':\n",
    "            self.X = (1-2*np.random.randint(2,size=M*N).reshape(N,M))/np.sqrt(M)\n",
    "        elif dist=='Gaussian':\n",
    "            self.X = np.random.randn(N,M)/np.sqrt(M)\n",
    "        N2 = int(np.floor(N/2))\n",
    "        self.X[:N2,:] *= np.sqrt(σ)\n",
    "        self.shape = (N,N)\n",
    "        self.dtype = np.double\n",
    "    \n",
    "    def __matmul__(self,v):\n",
    "        \n",
    "        return self.X@(self.X.T@v)"
   ]
  },
  {
   "cell_type": "code",
   "execution_count": 4,
   "metadata": {},
   "outputs": [],
   "source": [
    "def support_gen(N,d,σ): # newtons' method to find all roots of df\n",
    "    \n",
    "    f = lambda x: -1/x + d/2*1/(x + 1) + d/2*1/(x + 1/σ)\n",
    "    df = lambda x: 1/x**2 - d/2*1/(x + 1)**2 - d/2*1/(x + 1/σ)**2\n",
    "    ddf = lambda x: -2/x**3 + d/(x + 1)**3 + d/(x + 1/σ)**3\n",
    "\n",
    "    x0 = np.arange(-4,4,.005)\n",
    "    for i in range(400):\n",
    "        x0 = x0 - df(x0)/ddf(x0)\n",
    "    x0 = f(x0[np.abs(x0)<100])\n",
    "    \n",
    "    return np.reshape(x0[np.unique(x0.round(decimals=10),return_index=True)[1]],(2,2))"
   ]
  },
  {
   "cell_type": "code",
   "execution_count": 5,
   "metadata": {},
   "outputs": [],
   "source": [
    "def mu_U(x,a,b): \n",
    "    with np.errstate(invalid='ignore'):\n",
    "        return (8/(np.pi*(b-a)**2))*np.sqrt((x-a)*(b-x))\n",
    "    \n",
    "def mu_T(x,a,b): \n",
    "    with np.errstate(divide='ignore',invalid='ignore'):\n",
    "        return 1/(np.pi)/(np.sqrt((x-a)*(b-x)))"
   ]
  },
  {
   "cell_type": "code",
   "execution_count": 6,
   "metadata": {},
   "outputs": [],
   "source": [
    "N = 5000\n",
    "d = 0.3;\n",
    "σ = 8.0\n",
    "\n",
    "intervals_raw = support_gen(N,d,σ)\n",
    "intervals = intervals_raw + np.array([[-1,1],[-1,1]]) * 0.001\n",
    "\n",
    "a = intervals[0,0]\n",
    "b = intervals[1,1]\n",
    "\n",
    "weights = [.5,.5]\n"
   ]
  },
  {
   "cell_type": "code",
   "execution_count": 7,
   "metadata": {},
   "outputs": [],
   "source": [
    "mu = lambda x,a,b: mu_U(x,a,b)\n",
    "\n",
    "def mu2(x):\n",
    "    mu_x = np.zeros_like(x)\n",
    "    l = len(weights)\n",
    "    for i in range(l):\n",
    "        mask = (intervals[i,0]<x)*(x<intervals[i,1])\n",
    "        mu_x[mask] += weights[i]*mu(x[mask],intervals[i,0],intervals[i,1])\n",
    "    return mu_x"
   ]
  },
  {
   "cell_type": "code",
   "execution_count": 8,
   "metadata": {},
   "outputs": [],
   "source": [
    "k = 30\n",
    "s = 2*k\n",
    "\n",
    "αU = np.ones(s+1)*(a+b)/2\n",
    "βU = np.ones(s+1)*(b-a)/4\n",
    "\n",
    "αU_unscaled = np.zeros(s+1)\n",
    "βU_unscaled = np.ones(s+1)/2\n",
    "\n",
    "α2,β2 = get_op_recurrence(intervals,weights,αU_unscaled,βU_unscaled,s)"
   ]
  },
  {
   "cell_type": "code",
   "execution_count": 9,
   "metadata": {},
   "outputs": [
    {
     "name": "stdout",
     "output_type": "stream",
     "text": [
      "9\n"
     ]
    }
   ],
   "source": [
    "np.random.seed(0)\n",
    "\n",
    "n_trials = 10\n",
    "\n",
    "α  = np.zeros((n_trials,k))\n",
    "β  = np.zeros((n_trials,k))\n",
    "mU = np.zeros((n_trials,k+1))\n",
    "m2 = np.zeros((n_trials,k+1))\n",
    "\n",
    "for trial_idx in range(n_trials):\n",
    "    \n",
    "    clear_output(wait=True)\n",
    "    print(trial_idx)\n",
    "    \n",
    "    A = mat_samp_full(N,d,σ)\n",
    "    v = np.sign(np.random.rand(N)-.5) / np.sqrt(N)\n",
    "\n",
    "    \n",
    "    Q,(α[trial_idx],β[trial_idx]) = lanczos_reorth(A,v,k)\n",
    "    mU[trial_idx] = get_moments_from_lanczos(A,v,k,αU,βU,T=(α[trial_idx],β[trial_idx]))\n",
    "    m2[trial_idx] = get_moments_from_lanczos(A,v,k,α2,β2,T=(α[trial_idx],β[trial_idx]))"
   ]
  },
  {
   "cell_type": "code",
   "execution_count": 10,
   "metadata": {},
   "outputs": [],
   "source": [
    "xx = np.linspace(a,b,5000)\n",
    "\n",
    "fig = plt.figure(figsize=(figure_width*cm,figure_height*cm))\n",
    "\n",
    "ax = fig.add_axes([left, bottom, width, height])\n",
    "\n",
    "\n",
    "AQ_U = eval_poly(xx,np.mean(mU,axis=0),αU,βU)\n",
    "AQ_2 = eval_poly(xx,np.mean(m2,axis=0),α2,β2)\n",
    "\n",
    "ax.plot(xx,AQ_U*mu_U(xx,a,b),**line_styles_nomarker['l3'])\n",
    "ax.plot(xx,AQ_U*mu_U(xx,a,b),**line_styles_nomarker1['l3'])\n",
    "ax.plot(xx,AQ_2*mu2(xx),**line_styles_nomarker['l1'])\n",
    "    \n",
    "for l in np.reshape(intervals_raw,-1):\n",
    "    ax.axvline(l,color='k',lw=.5)\n",
    "\n",
    "ax.grid(True,linestyle=':',linewidth=.5)\n",
    "\n",
    "ax.set_ylim(0,.6)\n",
    "ax.set_xlim(-1,17)\n",
    "\n",
    "axins = inset_axes(ax, \"100%\",\"100%\", loc='upper left', bbox_to_anchor=(0.35,.35,.5,.6), bbox_transform=ax.transAxes)\n",
    "axins.plot(xx,AQ_U*mu_U(xx,a,b),**line_styles_nomarker['l3'])\n",
    "axins.plot(xx,AQ_U*mu_U(xx,a,b),**line_styles_nomarker1['l3'])\n",
    "axins.plot(xx,AQ_2*mu2(xx),**line_styles_nomarker['l1'])\n",
    "\n",
    "for l in np.reshape(intervals_raw,-1):\n",
    "    axins.axvline(l,color='k',lw=.5)\n",
    "\n",
    "# sub region of the original image\n",
    "x1, x2, y1, y2 = 1.5,2,0,.1\n",
    "axins.set_xlim(x1, x2)\n",
    "axins.set_ylim(y1, y2)\n",
    "axins.set_xticks([x1,x2])\n",
    "axins.set_yticks([y1,y2])\n",
    "\n",
    "\n",
    "plt.savefig('imgs/ch4_RM_split_AQ.pdf')\n",
    "plt.close()"
   ]
  },
  {
   "cell_type": "code",
   "execution_count": 11,
   "metadata": {},
   "outputs": [],
   "source": [
    "xx = np.linspace(-1,b,1000)\n",
    "\n",
    "g_σ = lambda x,σ: 1/np.sqrt(2*np.pi*σ**2)*np.exp(-(x/σ)**2/2)\n",
    "\n",
    "GQ0 = np.zeros_like(xx)\n",
    "GQ1 = np.zeros_like(xx)\n",
    "GQ2 = np.zeros_like(xx)\n",
    "GQ3 = np.zeros_like(xx)\n",
    "\n",
    "for trial_idx in range(n_trials):\n",
    "    θ,ω = get_gq(k,α[trial_idx],β[trial_idx])\n",
    "    for i in range(k):\n",
    "\n",
    "        GQ0 += ω[i]*g_σ(xx-θ[i],3/k)\n",
    "        GQ1 += ω[i]*g_σ(xx-θ[i],3/k)\n",
    "        GQ2 += ω[i]*g_σ(xx-θ[i],8/k)\n",
    "        GQ3 += ω[i]*g_σ(xx-θ[i],15/k)\n",
    "    \n",
    "GQ0 /= n_trials\n",
    "GQ1 /= n_trials\n",
    "GQ2 /= n_trials\n",
    "GQ3 /= n_trials\n",
    "\n",
    "\n",
    "fig = plt.figure(figsize=(figure_width*cm,figure_height*cm))\n",
    "\n",
    "ax = fig.add_axes([left, bottom, width, height])\n",
    "\n",
    "#ax.plot(xx,GQ0,color=colors[4],ls=linestyles[4],lw=.75)\n",
    "#ax.plot(xx,GQ0,color=colors[4],lw=.2)\n",
    "\n",
    "ax.plot(xx,GQ1,**line_styles_nomarker['l3'])\n",
    "ax.plot(xx,GQ1,**line_styles_nomarker1['l3'])\n",
    "\n",
    "ax.plot(xx,GQ2,**line_styles_nomarker['l2'])\n",
    "ax.plot(xx,GQ2,**line_styles_nomarker1['l2'])\n",
    "\n",
    "ax.plot(xx,GQ3,**line_styles_nomarker['l1'])\n",
    "#ax.plot(xx,GQ3,color=colors[1],lw=.2)\n",
    "\n",
    "ax.grid(True,linestyle=':',linewidth=.5)\n",
    "\n",
    "    \n",
    "for l in np.reshape(intervals_raw,-1):\n",
    "    ax.axvline(l,color='k',lw=.5)\n",
    "\n",
    "ax.set_ylim(0,.6)\n",
    "ax.set_xlim(-1,17)\n",
    "\n",
    "plt.savefig('imgs/ch4_RM_split_GQ.pdf')\n",
    "plt.close()"
   ]
  },
  {
   "cell_type": "code",
   "execution_count": null,
   "metadata": {},
   "outputs": [],
   "source": []
  }
 ],
 "metadata": {
  "kernelspec": {
   "display_name": "Python 3",
   "language": "python",
   "name": "python3"
  },
  "language_info": {
   "codemirror_mode": {
    "name": "ipython",
    "version": 3
   },
   "file_extension": ".py",
   "mimetype": "text/x-python",
   "name": "python",
   "nbconvert_exporter": "python",
   "pygments_lexer": "ipython3",
   "version": "3.8.3"
  }
 },
 "nbformat": 4,
 "nbformat_minor": 4
}
