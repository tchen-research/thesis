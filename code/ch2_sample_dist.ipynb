{
 "cells": [
  {
   "cell_type": "code",
   "execution_count": 1,
   "metadata": {},
   "outputs": [],
   "source": [
    "import numpy as np\n",
    "import matplotlib.pyplot as plt\n",
    "import matplotlib as mpl\n",
    "\n",
    "from bin import *\n",
    "\n",
    "from IPython.display import clear_output\n",
    "%load_ext autoreload\n",
    "%autoreload 2"
   ]
  },
  {
   "cell_type": "code",
   "execution_count": 2,
   "metadata": {},
   "outputs": [],
   "source": [
    "mpl.use(\"pgf\")\n",
    "\n",
    "mpl.rcParams.update({\n",
    "    \"pgf.texsystem\": \"lualatex\",\n",
    "    'font.family': 'serif',\n",
    "    'font.size' : 8,\n",
    "    'text.usetex': True,\n",
    "    'pgf.rcfonts': False,\n",
    "    'pgf.preamble': tex_preamble,\n",
    "})"
   ]
  },
  {
   "cell_type": "code",
   "execution_count": 3,
   "metadata": {},
   "outputs": [],
   "source": [
    "a,b = -1,1\n",
    "xx = np.linspace(-1,1,300)"
   ]
  },
  {
   "cell_type": "code",
   "execution_count": 4,
   "metadata": {},
   "outputs": [],
   "source": [
    "μT = lambda x: 1/2 + 1/np.pi*np.arcsin(2*x/(b-a)-(b+a)/(b-a))"
   ]
  },
  {
   "cell_type": "code",
   "execution_count": 5,
   "metadata": {},
   "outputs": [],
   "source": [
    "Λ1 = [-1,-.95,-.6,-.5,-.1,.3,.55,.85,1]\n",
    "w1 = [0,.23,.1,.05,.2,.1,.05,.17,.1]\n",
    "\n",
    "Λ2 = np.hstack([[-1],-np.cos(np.pi*(np.arange(6)+1/2)/6),[1]])\n",
    "w2 = [0]+[1/6]*6+[0]\n",
    "\n",
    "Λ3 = [-1,-.75,-.65,-.5,-.45,.2,.65,.75,.9,.95,1]\n",
    "w3 = [0,.12,.3,.1,-.05,.3,-.2,.3,.05,.08,0]\n",
    "\n"
   ]
  },
  {
   "cell_type": "code",
   "execution_count": 6,
   "metadata": {},
   "outputs": [],
   "source": [
    "fig = plt.figure(figsize=(figure_width*cm,figure_height*cm))\n",
    "\n",
    "ax = fig.add_axes([left, bottom, width, height])\n",
    "\n",
    "\n",
    "ax.plot(xx,μT(xx)+np.sin(10*np.pi*xx)/(20*np.sqrt(1.01-xx**2)),**line_styles_nomarker['l2'])\n",
    "ax.step(Λ2,np.cumsum(w2),where='post',**line_styles_nomarker['l3'])\n",
    "ax.step(Λ3,np.cumsum(w3),where='post',**line_styles_nomarker['l4'])\n",
    "ax.plot(xx,μT(xx),**line_styles_nomarker['l1'])\n",
    "\n",
    "ax.plot(xx,μT(xx)+np.sin(10*np.pi*xx)/(20*np.sqrt(1.01-xx**2)),**line_styles_nomarker1['l2'])\n",
    "ax.step(Λ2,np.cumsum(w2),where='post',**line_styles_nomarker1['l3'])\n",
    "ax.step(Λ3,np.cumsum(w3),where='post',**line_styles_nomarker1['l4'])\n",
    "\n",
    "ax.grid(True,linestyle=':',linewidth=.5)\n",
    "\n",
    "plt.savefig('imgs/ch2_sample_dist.pdf')\n",
    "plt.close()"
   ]
  },
  {
   "cell_type": "code",
   "execution_count": null,
   "metadata": {},
   "outputs": [],
   "source": []
  }
 ],
 "metadata": {
  "kernelspec": {
   "display_name": "Python 3",
   "language": "python",
   "name": "python3"
  },
  "language_info": {
   "codemirror_mode": {
    "name": "ipython",
    "version": 3
   },
   "file_extension": ".py",
   "mimetype": "text/x-python",
   "name": "python",
   "nbconvert_exporter": "python",
   "pygments_lexer": "ipython3",
   "version": "3.8.3"
  }
 },
 "nbformat": 4,
 "nbformat_minor": 4
}
