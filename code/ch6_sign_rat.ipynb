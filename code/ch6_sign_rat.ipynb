{
 "cells": [
  {
   "cell_type": "code",
   "execution_count": 1,
   "metadata": {},
   "outputs": [],
   "source": [
    "import numpy as np\n",
    "import scipy as sp\n",
    "from scipy import optimize,special,integrate,stats\n",
    "import matplotlib.pyplot as plt\n",
    "from matplotlib.lines import Line2D\n",
    "import matplotlib as mpl\n",
    "from mpl_toolkits.axes_grid1.inset_locator import inset_axes\n",
    "from mpl_toolkits.axes_grid1.inset_locator import mark_inset\n",
    "\n",
    "import copy\n",
    "\n",
    "import math \n",
    "\n",
    "from bin import *\n",
    "\n",
    "from IPython.display import clear_output\n",
    "%load_ext autoreload\n",
    "%autoreload 2"
   ]
  },
  {
   "cell_type": "code",
   "execution_count": 2,
   "metadata": {},
   "outputs": [],
   "source": [
    "mpl.use(\"pgf\")\n",
    "\n",
    "mpl.rcParams.update({\n",
    "    \"pgf.texsystem\": \"lualatex\",\n",
    "    'font.family': 'serif',\n",
    "    'font.size' : 8,\n",
    "    'text.usetex': True,\n",
    "    'pgf.rcfonts': False,\n",
    "    'pgf.preamble': tex_preamble,\n",
    "})"
   ]
  },
  {
   "cell_type": "code",
   "execution_count": 3,
   "metadata": {},
   "outputs": [],
   "source": [
    "Λ = np.hstack([-model_problem_spectrum(100,.8,1e1)[::-1],model_problem_spectrum(300,.8,5e1)])"
   ]
  },
  {
   "cell_type": "code",
   "execution_count": 4,
   "metadata": {},
   "outputs": [],
   "source": [
    "q = 15\n",
    "λmin = np.min(np.abs(Λ))**2\n",
    "λmax = np.max(np.abs(Λ))**2\n",
    "\n",
    "poles = np.zeros(q)\n",
    "weights = np.zeros(q)\n",
    "\n",
    "k2 = λmin/λmax\n",
    "Kp = sp.special.ellipk(1-k2)\n",
    "\n",
    "t = 1j*np.arange(1/2,q+1/2)*Kp/q\n",
    "\n",
    "sn_,cn_,dn_,_ = sp.special.ellipj(np.imag(t),1-k2) # compute real valued functions to transform to what we need\n",
    "\n",
    "cn = 1/cn_\n",
    "dn = dn_ / cn_\n",
    "sn = 1j * sn_ / cn_\n",
    "\n",
    "poles = np.real(λmin * sn**2)\n",
    "\n",
    "weights = (2 * Kp * np.sqrt(λmin))/(np.pi*q) * (cn * dn)"
   ]
  },
  {
   "cell_type": "code",
   "execution_count": 5,
   "metadata": {},
   "outputs": [],
   "source": [
    "A = np.diag(Λ)\n",
    "\n",
    "n = len(Λ)\n",
    "b = np.ones(n,dtype=np.double)\n",
    "b /= np.linalg.norm(b)\n",
    "\n",
    "r = lambda x: np.sum( weights / (x[:,None]-poles) ,axis=1)\n",
    "rAb = Λ*r(Λ**2)*b\n",
    "fAb = np.sign(Λ)*b\n",
    "\n",
    "K = 120\n",
    "K_ro = 65\n",
    "Q,(a_,b_) = lanczos_reorth(A,b,K,reorth=0)\n",
    "Q_ro,(a_ro_,b_ro_) = lanczos_reorth(A,b,K_ro,reorth=K)"
   ]
  },
  {
   "cell_type": "code",
   "execution_count": 6,
   "metadata": {},
   "outputs": [],
   "source": [
    "error_OR = np.full(K,np.nan)\n",
    "error_fOR = np.full(K,np.nan)\n",
    "error_OR_ro = np.full(K,np.nan)\n",
    "error_fOR_ro = np.full(K,np.nan)\n",
    "\n",
    "for i in range(1,K):\n",
    "    lank_OR = np.zeros(n)\n",
    "    for l in range(q):\n",
    "        lan_lm = streaming_banded_rational(n,i,(0,weights[l],0),(1,0,-poles[l]))\n",
    "        for j in range(i):\n",
    "            lan_lm.read_stream(Q[:,j],a_[j],b_[j])\n",
    "\n",
    "        lan_lm.finish_up()      \n",
    "\n",
    "        lank_OR += lan_lm()\n",
    "\n",
    "    error_OR[i] = np.linalg.norm(Λ*(rAb - lank_OR))\n",
    "    error_fOR[i] = np.linalg.norm(Λ*(fAb - lank_OR))\n",
    "    \n",
    "for i in range(1,K_ro):\n",
    "    lank_OR_ro = np.zeros(n)\n",
    "    for l in range(q):\n",
    "        lan_lm = streaming_banded_rational(n,i,(0,weights[l],0),(1,0,-poles[l]))\n",
    "        for j in range(i):\n",
    "            lan_lm.read_stream(Q_ro[:,j],a_ro_[j],b_ro_[j])\n",
    "\n",
    "        lan_lm.finish_up()      \n",
    "\n",
    "        lank_OR_ro += lan_lm()\n",
    "\n",
    "    error_OR_ro[i] = np.linalg.norm(Λ*(rAb - lank_OR_ro))\n",
    "    error_fOR_ro[i] = np.linalg.norm(Λ*(fAb - lank_OR_ro))"
   ]
  },
  {
   "cell_type": "code",
   "execution_count": 7,
   "metadata": {},
   "outputs": [],
   "source": [
    "fig = plt.figure(figsize=(figure_width*cm,figure_height*cm))\n",
    "ax = fig.add_axes([left, bottom, width, height])\n",
    "\n",
    "ks = np.arange(K)\n",
    "\n",
    "ax.plot(ks,error_OR_ro,\\\n",
    "        **line_styles['l4'],markevery=1)\n",
    "ax.plot(ks,error_fOR_ro,\\\n",
    "        **line_styles['l3'],markevery=1)\n",
    "\n",
    "ax.plot(ks,error_OR,\\\n",
    "        **line_styles['l2'],markevery=1)\n",
    "ax.plot(ks,error_fOR,\\\n",
    "        **line_styles['l1'],markevery=1)\n",
    "\n",
    "ax.set_yscale('log')\n",
    "plt.grid(True,linestyle=':',linewidth=.5)\n",
    "\n",
    "\n",
    "#plt.title(f'$\\mathbf{{A}}$-norm error bounds: $f(x) = \\sqrt{{x}}$, circle contour')\n",
    "plt.xlabel('number of matvecs: $k$')\n",
    "\n",
    "plt.savefig('imgs/ch6_sign_rat.pdf')\n",
    "#plt.close()"
   ]
  },
  {
   "cell_type": "code",
   "execution_count": null,
   "metadata": {},
   "outputs": [],
   "source": []
  }
 ],
 "metadata": {
  "kernelspec": {
   "display_name": "Python 3",
   "language": "python",
   "name": "python3"
  },
  "language_info": {
   "codemirror_mode": {
    "name": "ipython",
    "version": 3
   },
   "file_extension": ".py",
   "mimetype": "text/x-python",
   "name": "python",
   "nbconvert_exporter": "python",
   "pygments_lexer": "ipython3",
   "version": "3.8.3"
  }
 },
 "nbformat": 4,
 "nbformat_minor": 4
}
