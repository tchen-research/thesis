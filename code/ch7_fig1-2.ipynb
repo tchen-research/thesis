{
 "cells": [
  {
   "cell_type": "code",
   "execution_count": 1,
   "metadata": {},
   "outputs": [],
   "source": [
    "import numpy as np\n",
    "import matplotlib.pyplot as plt\n",
    "import matplotlib as mpl\n",
    "from matplotlib.lines import Line2D\n",
    "import matplotlib.colors as mpl_colors\n",
    "\n",
    "import math \n",
    "\n",
    "from bin import *\n",
    "\n",
    "from IPython.display import clear_output\n",
    "%load_ext autoreload\n",
    "%autoreload 2"
   ]
  },
  {
   "cell_type": "code",
   "execution_count": 2,
   "metadata": {},
   "outputs": [],
   "source": [
    "mpl.use(\"pgf\")\n",
    "\n",
    "mpl.rcParams.update({\n",
    "    \"pgf.texsystem\": \"lualatex\",\n",
    "    'font.family': 'serif',\n",
    "    'font.size' : 8,\n",
    "    'text.usetex': True,\n",
    "    'pgf.rcfonts': False,\n",
    "    'pgf.preamble': tex_preamble,\n",
    "})"
   ]
  },
  {
   "cell_type": "code",
   "execution_count": 3,
   "metadata": {},
   "outputs": [],
   "source": [
    "N_color = 256\n",
    "vals = np.ones((N_color, 4))\n",
    "vals[::-1, 0] = np.linspace(30/256, 1, N_color)\n",
    "vals[::-1, 1] = np.linspace(50/256, 1, N_color)\n",
    "vals[::-1, 2] = np.linspace(100/256, 1, N_color)\n",
    "base_cmap = mpl_colors.ListedColormap(vals)"
   ]
  },
  {
   "cell_type": "code",
   "execution_count": 4,
   "metadata": {},
   "outputs": [],
   "source": [
    "N  = 200\n",
    "X = np.linspace(-4,8, N)\n",
    "Y = np.linspace(-3, 3, N)"
   ]
  },
  {
   "cell_type": "code",
   "execution_count": 5,
   "metadata": {},
   "outputs": [],
   "source": [
    "R1 = np.zeros((N,N),dtype=np.double)\n",
    "\n",
    "theta = np.array([.5,.8,1.2,1.5,3])\n",
    "\n",
    "w = 0\n",
    "lmin = 1/2\n",
    "lmax = 3\n",
    "for i,x in enumerate(X):\n",
    "    for j,y in enumerate(Y):\n",
    "        R1[i,j] = Q_wz(w,x+1j*y,lmin,lmax)/np.abs(np.prod(w-theta)/np.prod((x+1j*y)-theta))**(1/len(theta))"
   ]
  },
  {
   "cell_type": "code",
   "execution_count": 6,
   "metadata": {},
   "outputs": [
    {
     "name": "stderr",
     "output_type": "stream",
     "text": [
      "<ipython-input-6-a3aeee069c00>:20: UserWarning: Matplotlib is currently using pgf, which is a non-GUI backend, so cannot show the figure.\n",
      "  plt.show()\n"
     ]
    }
   ],
   "source": [
    "w=0\n",
    "fig = plt.figure(figsize=(figure_width*cm,figure_height*cm))\n",
    "\n",
    "ax = fig.add_axes([left, bottom, width, height])\n",
    "\n",
    "CS = plt.contour(X,Y,R1.T,[1.5,1.8,2,2.5,3.4,4,6],colors='k',linewidths=.85)\n",
    "        \n",
    "CS.levels = [str(val) for val in CS.levels]\n",
    "\n",
    "ax.clabel(CS, CS.levels, inline=True,fontsize=10,manual=[[-.5,1],[-.6,2],[.2,2.5],[1.7,2],[2.5,1.8],[3.2,1.5],[3.5,.5]])\n",
    "\n",
    "ax.plot([lmin,lmax],[0,0],linewidth='3',color='k',solid_capstyle='round')\n",
    "ax.plot([lmin,lmax],[0,0],linewidth='1',color='w',solid_capstyle='round')\n",
    "ax.scatter(w,0,marker='D',color='k',facecolors='w',zorder=10)\n",
    "ax.scatter(theta,0*theta,marker='X',color='k',facecolors='w',zorder=10)\n",
    "\n",
    "ax.contourf(X,Y,R1.T,levels=np.hstack([np.logspace(np.log10(1e-2/2),np.log10(100),30)]),cmap=base_cmap,norm=mpl_colors.LogNorm(vmin=1, vmax=30))\n",
    "\n",
    "#ax.set_aspect('equal')\n",
    "plt.show()\n",
    "plt.savefig('imgs/ch7_hwz1.pdf',bbox_inches='tight')"
   ]
  },
  {
   "cell_type": "code",
   "execution_count": 7,
   "metadata": {},
   "outputs": [],
   "source": [
    "R2 = np.zeros((N,N),dtype=np.double)\n",
    "\n",
    "theta = np.array([.5,.8,1.2,1.5,3])\n",
    "w = 1\n",
    "lmin = 1/2\n",
    "lmax = 3\n",
    "\n",
    "for i,x in enumerate(X):\n",
    "    for j,y in enumerate(Y):\n",
    "        R2[i,j] = Q_wz(w,x+1j*y,lmin,lmax)/np.abs(np.prod(w-theta)/np.prod((x+1j*y)-theta))**(1/len(theta))"
   ]
  },
  {
   "cell_type": "code",
   "execution_count": 8,
   "metadata": {},
   "outputs": [],
   "source": [
    "w=1\n",
    "fig = plt.figure(figsize=(figure_width*cm,figure_height*cm))\n",
    "\n",
    "ax = fig.add_axes([left, bottom, width, height])\n",
    "\n",
    "CS = plt.contour(X,Y,R2.T,[2.5,3,4,6,9],colors='k',linewidths=.85)\n",
    "        \n",
    "CS.levels = [str(val) for val in CS.levels]\n",
    "\n",
    "ax.clabel(CS, CS.levels, inline=True,fontsize=10,manual=[[-1,1],[0,2],[1.5,2],[3,2],[3.25,1]])\n",
    "\n",
    "ax.plot([lmin,lmax],[0,0],linewidth='3',color='k',solid_capstyle='round')\n",
    "ax.plot([lmin,lmax],[0,0],linewidth='1',color='w',solid_capstyle='round')\n",
    "ax.scatter(w,0,marker='D',color='k',facecolors='w',zorder=10)\n",
    "ax.scatter(theta,0*theta,marker='X',color='k',facecolors='w',zorder=10)\n",
    "\n",
    "ax.contourf(X,Y,R2.T,levels=np.hstack([np.logspace(np.log10(1e-2/2),np.log10(100),30)]),cmap=base_cmap,norm=mpl_colors.LogNorm(vmin=1, vmax=30))\n",
    "\n",
    "\n",
    "#ax.set_aspect('equal')\n",
    "plt.savefig('imgs/ch7_hwz2.pdf',bbox_inches='tight')"
   ]
  },
  {
   "cell_type": "code",
   "execution_count": null,
   "metadata": {},
   "outputs": [],
   "source": []
  }
 ],
 "metadata": {
  "kernelspec": {
   "display_name": "Python 3",
   "language": "python",
   "name": "python3"
  },
  "language_info": {
   "codemirror_mode": {
    "name": "ipython",
    "version": 3
   },
   "file_extension": ".py",
   "mimetype": "text/x-python",
   "name": "python",
   "nbconvert_exporter": "python",
   "pygments_lexer": "ipython3",
   "version": "3.8.3"
  }
 },
 "nbformat": 4,
 "nbformat_minor": 4
}
