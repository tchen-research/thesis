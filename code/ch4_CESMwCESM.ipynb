{
 "cells": [
  {
   "cell_type": "code",
   "execution_count": 1,
   "metadata": {},
   "outputs": [],
   "source": [
    "import numpy as np\n",
    "import matplotlib.pyplot as plt\n",
    "import matplotlib as mpl\n",
    "\n",
    "from bin import *\n",
    "\n",
    "from IPython.display import clear_output\n",
    "%load_ext autoreload\n",
    "%autoreload 2"
   ]
  },
  {
   "cell_type": "code",
   "execution_count": 2,
   "metadata": {},
   "outputs": [],
   "source": [
    "mpl.use(\"pgf\")\n",
    "\n",
    "mpl.rcParams.update({\n",
    "    \"pgf.texsystem\": \"xelatex\",\n",
    "    'font.family': 'serif',\n",
    "    'font.size' : 8,\n",
    "    'text.usetex': True,\n",
    "    'pgf.rcfonts': False,\n",
    "    'pgf.preamble': tex_preamble,\n",
    "})"
   ]
  },
  {
   "cell_type": "code",
   "execution_count": 3,
   "metadata": {},
   "outputs": [],
   "source": [
    "def mu_T(x,a,b): \n",
    "    with np.errstate(divide='ignore',invalid='ignore'):\n",
    "        return 1/(np.pi)/(np.sqrt((x-a)*(b-x)))"
   ]
  },
  {
   "cell_type": "code",
   "execution_count": 4,
   "metadata": {},
   "outputs": [],
   "source": [
    "n = 100\n",
    "lam = np.sort(np.log(np.linspace(1e-3,1-1e-3,n)/(1-np.linspace(1e-3,1-1e-3,n))))\n",
    "n = len(lam)\n",
    "\n",
    "a = min(lam)-1e-1\n",
    "b = max(lam)+1e-1\n",
    "\n",
    "k_max = 8"
   ]
  },
  {
   "cell_type": "code",
   "execution_count": 5,
   "metadata": {},
   "outputs": [],
   "source": [
    "fig = plt.figure(figsize=(figure_width*cm,figure_height*cm))\n",
    "\n",
    "ax = fig.add_axes([left, bottom, width, height])\n",
    "\n",
    "ax.step(lam,np.arange(n)/n,where='post',**line_styles_nomarker['l1'],label='CESM $\\Phi$')\n",
    "\n",
    "np.random.seed(0)\n",
    "for i in range(10):\n",
    "    v = np.random.randn(n)\n",
    "    v /= np.linalg.norm(v)\n",
    "\n",
    "    ax.step(np.append(a,lam),np.append(0,np.cumsum(v**2)),where='post',**line_styles_nomarker['l1'],alpha=.2)\n",
    "\n",
    "v = np.random.randn(n)\n",
    "v /= np.linalg.norm(v)\n",
    "\n",
    "ax.step(np.append(a,lam),np.append(0,np.cumsum(v**2)),where='post',**line_styles_nomarker['l1'],alpha=.2,label='wCESM $\\Psi$')\n",
    "\n",
    "ax.grid(True,linestyle=':',linewidth=.5)\n",
    "\n",
    "#plt.legend()\n",
    "\n",
    "plt.savefig('imgs/ch4_CESMwCESM.pdf')\n",
    "plt.close()"
   ]
  },
  {
   "cell_type": "code",
   "execution_count": null,
   "metadata": {},
   "outputs": [],
   "source": []
  }
 ],
 "metadata": {
  "kernelspec": {
   "display_name": "Python 3",
   "language": "python",
   "name": "python3"
  },
  "language_info": {
   "codemirror_mode": {
    "name": "ipython",
    "version": 3
   },
   "file_extension": ".py",
   "mimetype": "text/x-python",
   "name": "python",
   "nbconvert_exporter": "python",
   "pygments_lexer": "ipython3",
   "version": "3.8.3"
  }
 },
 "nbformat": 4,
 "nbformat_minor": 4
}
