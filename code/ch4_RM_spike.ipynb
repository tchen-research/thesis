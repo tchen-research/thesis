{
 "cells": [
  {
   "cell_type": "code",
   "execution_count": 1,
   "metadata": {},
   "outputs": [],
   "source": [
    "import numpy as np\n",
    "import matplotlib.pyplot as plt\n",
    "import matplotlib as mpl\n",
    "\n",
    "import math \n",
    "\n",
    "from bin import *\n",
    "\n",
    "from IPython.display import clear_output\n",
    "%load_ext autoreload\n",
    "%autoreload 2"
   ]
  },
  {
   "cell_type": "code",
   "execution_count": 2,
   "metadata": {},
   "outputs": [],
   "source": [
    "mpl.use(\"pgf\")\n",
    "\n",
    "mpl.rcParams.update({\n",
    "    \"pgf.texsystem\": \"lualatex\",\n",
    "    'font.family': 'serif',\n",
    "    'font.size' : 8,\n",
    "    'text.usetex': True,\n",
    "    'pgf.rcfonts': False,\n",
    "    'pgf.preamble': tex_preamble,\n",
    "})"
   ]
  },
  {
   "cell_type": "code",
   "execution_count": 3,
   "metadata": {},
   "outputs": [],
   "source": [
    "def mu_U(x,a,b): \n",
    "    with np.errstate(invalid='ignore'):\n",
    "        return (8/(np.pi*(b-a)**2))*np.sqrt((x-a)*(b-x))\n",
    "    \n",
    "def mu_mp(x,d):\n",
    "     with np.errstate(divide='ignore',invalid='ignore'):\n",
    "        return 1/(2*np.pi*d)*np.sqrt((x-(1-np.sqrt(d))**2)*((1+np.sqrt(d))**2-x))/x"
   ]
  },
  {
   "cell_type": "code",
   "execution_count": 4,
   "metadata": {},
   "outputs": [],
   "source": [
    "def construct_H(n,k=-1,d=.5):\n",
    "    \"\"\"\n",
    "    n : int, size of T\n",
    "    k : int, size of Tk\n",
    "    \"\"\"\n",
    "    if k==-1:\n",
    "        k=n\n",
    "    \n",
    "    m = int(n/d)\n",
    "    \n",
    "    a = np.zeros(k)\n",
    "    b = np.zeros(k-1)\n",
    "    for j in range(k):\n",
    "        a[j] = np.random.chisquare(df=(m-(j+1)))\n",
    "\n",
    "    for j in range(k-1):\n",
    "        b[j] = np.random.chisquare(df=(n-(j+1)))\n",
    "    \n",
    "    b = np.sqrt(b) / (np.sqrt(m))\n",
    "    a = np.sqrt(a) / (np.sqrt(m))\n",
    "    \n",
    "    T = sp.sparse.spdiags(a,0,k,k)+sp.sparse.spdiags(b,1,k,k)\n",
    "    \n",
    "    return T@T.T"
   ]
  },
  {
   "cell_type": "code",
   "execution_count": 5,
   "metadata": {},
   "outputs": [],
   "source": [
    "n = 1000000\n",
    "nz = n//10\n",
    "d = 0.3;\n",
    "\n",
    "z = 1.5\n",
    "\n",
    "a=(1-np.sqrt(d))**2\n",
    "b=(1+np.sqrt(d))**2\n",
    "\n",
    "intervals_raw = np.array([[z,z],[a,b]])\n",
    "intervals = intervals_raw + np.array([[0,0],[-1,1]]) * 0.001\n",
    "\n",
    "a,b = np.min(intervals),np.max(intervals)\n",
    "weights = np.array([.2,.8])"
   ]
  },
  {
   "cell_type": "code",
   "execution_count": 6,
   "metadata": {},
   "outputs": [],
   "source": [
    "if False:\n",
    "    np.random.seed(0)\n",
    "    A = sp.sparse.block_diag((construct_H(n-nz,n-nz,d),\\\n",
    "                              #-construct_H(n2,n2,d2),\\\n",
    "                              sp.sparse.spdiags(z+1e-10*np.random.randn(nz),0,nz,nz)))\n",
    "\n",
    "    lam,Q = np.linalg.eigh(A.A)\n",
    "\n",
    "    for l in np.reshape(intervals_raw,-1):\n",
    "        plt.axvline(l,color='k',lw=1)\n",
    "\n",
    "    plt.hist(lam,100);"
   ]
  },
  {
   "cell_type": "code",
   "execution_count": 7,
   "metadata": {},
   "outputs": [],
   "source": [
    "mu = lambda x,a,b: mu_U(x,a,b)\n",
    "\n",
    "def mu2(x):\n",
    "    mu_x = np.zeros_like(x)\n",
    "    l = len(weights)\n",
    "    for i in range(l):\n",
    "        mask = (intervals[i,0]<x)*(x<intervals[i,1])\n",
    "        mu_x[mask] += weights[i]*mu(x[mask],intervals[i,0],intervals[i,1])\n",
    "    return mu_x"
   ]
  },
  {
   "cell_type": "code",
   "execution_count": 8,
   "metadata": {},
   "outputs": [],
   "source": [
    "k = 100\n",
    "s = 2*k\n",
    "\n",
    "αU = np.ones(s+1)*(a+b)/2\n",
    "βU = np.ones(s+1)*(b-a)/4\n",
    "\n",
    "αU_unscaled = np.zeros(s+1)\n",
    "βU_unscaled = np.ones(s+1)/2\n",
    "\n",
    "α2,β2 = get_op_recurrence(intervals,weights,αU_unscaled,βU_unscaled,s)"
   ]
  },
  {
   "cell_type": "code",
   "execution_count": 9,
   "metadata": {},
   "outputs": [
    {
     "name": "stdout",
     "output_type": "stream",
     "text": [
      "9\n"
     ]
    }
   ],
   "source": [
    "np.random.seed(0)\n",
    "n_trials = 10\n",
    "\n",
    "α  = np.zeros((n_trials,k))\n",
    "β  = np.zeros((n_trials,k))\n",
    "mU = np.zeros((n_trials,k+1))\n",
    "m2 = np.zeros((n_trials,k+1))\n",
    "\n",
    "for trial_idx in range(n_trials):\n",
    "    \n",
    "    clear_output(wait=True)\n",
    "    print(trial_idx)\n",
    "    A = sp.sparse.block_diag((construct_H(n-nz,n-nz,d),\\\n",
    "                              sp.sparse.spdiags(z+1e-10*np.random.randn(nz),0,nz,nz)))\n",
    "\n",
    "    v = np.sign(np.random.rand(n)-.5) / np.sqrt(n)\n",
    "    \n",
    "    Q,(α[trial_idx],β[trial_idx]) = lanczos_reorth(A,v,k)\n",
    "    mU[trial_idx] = get_moments_from_lanczos(A,v,k,αU,βU,T=(α[trial_idx],β[trial_idx]))\n",
    "    m2[trial_idx] = get_moments_from_lanczos(A,v,k,α2,β2,T=(α[trial_idx],β[trial_idx]))"
   ]
  },
  {
   "cell_type": "code",
   "execution_count": 10,
   "metadata": {},
   "outputs": [
    {
     "name": "stderr",
     "output_type": "stream",
     "text": [
      "<ipython-input-3-433543fba9e0>:3: RuntimeWarning: divide by zero encountered in double_scalars\n",
      "  return (8/(np.pi*(b-a)**2))*np.sqrt((x-a)*(b-x))\n"
     ]
    }
   ],
   "source": [
    "xx = np.linspace(np.min(intervals),np.max(intervals),5000)\n",
    "\n",
    "fig = plt.figure(figsize=(figure_width*cm,figure_height*cm))\n",
    "\n",
    "ax = fig.add_axes([left, bottom, width, height])\n",
    "\n",
    "ax.plot(xx,mu_mp(xx,d)*(1-nz/n),**line_styles_nomarker['l4'],label='true density')\n",
    "ax.plot(xx,mu_mp(xx,d)*(1-nz/n),**line_styles_nomarker1['l4'])\n",
    "\n",
    "AQ_U = eval_poly(xx,np.mean(mU,axis=0),αU,βU)\n",
    "AQ_2 = eval_poly(xx,np.mean(m2,axis=0),α2,β2)\n",
    "\n",
    "ax.plot(xx,AQ_U*mu(xx,a,b),**line_styles_nomarker['l3'],label='AQ')\n",
    "ax.plot(xx,AQ_U*mu(xx,a,b),**line_styles_nomarker1['l3'])\n",
    "\n",
    "ax.plot(xx,AQ_2*mu2(xx),**line_styles_nomarker['l1'],label='AQ with spike')\n",
    "\n",
    "ax.grid(True,linestyle=':',linewidth=.5)\n",
    "\n",
    "#for l in np.reshape(intervals_raw,-1):\n",
    "\n",
    "ax.axvline(z,**line_styles_nomarker['l1'])\n",
    "plt.text(z+.23,.15,\\\n",
    "         f'estimated spike mass: {eval_poly(np.array(z,dtype=np.double),np.mean(m2,axis=0),α2,β2)*weights[0]:1.4f}',\\\n",
    "        horizontalalignment='right',verticalalignment='center',bbox={'fc':'white','ec':'None'},fontsize=8)\n",
    "\n",
    "ax.set_ylim(0,.8)\n",
    "\n",
    "plt.savefig('imgs/ch4_RM_AQ_spiked.pdf')\n",
    "plt.close()"
   ]
  },
  {
   "cell_type": "code",
   "execution_count": null,
   "metadata": {},
   "outputs": [],
   "source": []
  }
 ],
 "metadata": {
  "kernelspec": {
   "display_name": "Python 3",
   "language": "python",
   "name": "python3"
  },
  "language_info": {
   "codemirror_mode": {
    "name": "ipython",
    "version": 3
   },
   "file_extension": ".py",
   "mimetype": "text/x-python",
   "name": "python",
   "nbconvert_exporter": "python",
   "pygments_lexer": "ipython3",
   "version": "3.8.3"
  }
 },
 "nbformat": 4,
 "nbformat_minor": 4
}
