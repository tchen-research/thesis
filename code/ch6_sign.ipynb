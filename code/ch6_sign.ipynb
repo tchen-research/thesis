{
 "cells": [
  {
   "cell_type": "code",
   "execution_count": 1,
   "metadata": {},
   "outputs": [],
   "source": [
    "import numpy as np\n",
    "import scipy as sp\n",
    "from scipy import optimize,special,integrate,stats\n",
    "import matplotlib.pyplot as plt\n",
    "from matplotlib.lines import Line2D\n",
    "import matplotlib as mpl\n",
    "from mpl_toolkits.axes_grid1.inset_locator import inset_axes\n",
    "from mpl_toolkits.axes_grid1.inset_locator import mark_inset\n",
    "\n",
    "import copy\n",
    "\n",
    "import math \n",
    "\n",
    "from bin import *\n",
    "\n",
    "from IPython.display import clear_output\n",
    "%load_ext autoreload\n",
    "%autoreload 2"
   ]
  },
  {
   "cell_type": "code",
   "execution_count": 2,
   "metadata": {},
   "outputs": [],
   "source": [
    "mpl.use(\"pgf\")\n",
    "\n",
    "mpl.rcParams.update({\n",
    "    \"pgf.texsystem\": \"lualatex\",\n",
    "    'font.family': 'serif',\n",
    "    'font.size' : 8,\n",
    "    'text.usetex': True,\n",
    "    'pgf.rcfonts': False,\n",
    "    'pgf.preamble': tex_preamble,\n",
    "})"
   ]
  },
  {
   "cell_type": "markdown",
   "metadata": {},
   "source": [
    "# $x/|x|$"
   ]
  },
  {
   "cell_type": "code",
   "execution_count": 3,
   "metadata": {},
   "outputs": [],
   "source": [
    "Λ = np.hstack([-model_problem_spectrum(100,.9,1e2)[::-1],model_problem_spectrum(300,.8,1e3)])\n",
    "A = np.diag(Λ)\n",
    "\n",
    "n = len(A)\n",
    "b = np.ones(n,dtype=np.double)\n",
    "b /= np.linalg.norm(b)\n",
    "\n",
    "f = lambda x: x/abs(x)#(A*x**2+B*x+C)/(a*x**2+b*x+c)\n",
    "fAb = f(Λ)*b"
   ]
  },
  {
   "cell_type": "code",
   "execution_count": 4,
   "metadata": {},
   "outputs": [],
   "source": [
    "K = 100\n",
    "Q,(a_,b_) = lanczos_reorth(A,b,K,reorth=K)"
   ]
  },
  {
   "cell_type": "code",
   "execution_count": 5,
   "metadata": {},
   "outputs": [],
   "source": [
    "error_opt = np.full(K,np.nan)\n",
    "error_FA = np.full(K,np.nan)\n",
    "error_OR = np.full(K,np.nan)\n",
    "error_HA = np.full(K,np.nan)\n",
    "\n",
    "\n",
    "for i in range(1,K):\n",
    "    \n",
    "    opt = Q[:,:i]@np.linalg.solve(Q[:,:i].T@np.diag(Λ**2)@Q[:,:i],Q[:,:i].T@(Λ**2*fAb))\n",
    "    error_opt[i] = np.linalg.norm(Λ*(fAb - opt))\n",
    "    \n",
    "    T = np.diag(a_[:i]) + np.diag(b_[:i-1],1) + np.diag(b_[:i-1],-1)\n",
    "    theta,S = sp.linalg.eigh(T)\n",
    "    \n",
    "    lank_FA = Q[:,:i]@(S@(f(theta)*S[0]))\n",
    "    error_FA[i] = np.linalg.norm(Λ*(fAb - lank_FA))\n",
    "   \n",
    "    TT_ = T@T\n",
    "    TT_[-1,-1] += b_[i-1]**2\n",
    "    theta,S = sp.linalg.eigh(TT_)\n",
    "    \n",
    "    lank_OR = Q[:,:i]@(S@((1/np.sqrt(theta))*(S.T@T[0])))\n",
    "    error_OR[i] = np.linalg.norm(Λ*(fAb - lank_OR))\n",
    "   \n",
    "    T_ = np.copy(T)\n",
    "\n",
    "    ek1 = np.zeros(i)\n",
    "    ek1[-1] = 1\n",
    "    e0 = np.zeros(i)\n",
    "    e0[0] = 1\n",
    "    \n",
    "    z = b_[i-1]**2*np.linalg.solve(T,ek1)\n",
    "    T_[:,-1] += z\n",
    "    theta,S = sp.linalg.eig(T_)\n",
    "\n",
    "    hark = Q[:,:i]@(S@(f(np.real(theta))*np.linalg.solve(S,e0)))\n",
    "    error_HA[i] = np.linalg.norm(Λ*(fAb - hark))\n",
    "    "
   ]
  },
  {
   "cell_type": "code",
   "execution_count": 6,
   "metadata": {},
   "outputs": [],
   "source": [
    "fig = plt.figure(figsize=(figure_width*cm,figure_height*cm))\n",
    "ax = fig.add_axes([left, bottom, width, height])\n",
    "\n",
    "skip = 2\n",
    "ks = np.arange(K)[::skip]\n",
    "\n",
    "ax.plot(ks,(error_opt/error_opt)[::skip],\\\n",
    "        color=colors[4],marker=markers[4],ms=m_sizes[4],lw=.2)\n",
    "#ax.plot(ks,(a_posteriori_bound_wedge_approx_spectrum*err_CG)[::skip],\\\n",
    "#        color=colors[2],marker=markers[2],ms=m_sizes[2],lw=.2)\n",
    "\n",
    "ax.plot(ks,(error_HA/error_opt)[::skip],\\\n",
    "        color=colors[3],marker=markers[3],ms=m_sizes[3],lw=.2)\n",
    "ax.plot(ks,(error_FA/error_opt)[::skip],\\\n",
    "        color=colors[2],marker=markers[2],ms=m_sizes[2],lw=.2)\n",
    "\n",
    "ax.plot(ks,(error_OR/error_opt)[::skip],\\\n",
    "        color=colors[1],marker=markers[1],ms=m_sizes[1],lw=.2)\n",
    "\n",
    "\n",
    "#ax.set_yscale('log')\n",
    "\n",
    "plt.grid(True,linestyle=':',linewidth=.5)\n",
    "\n",
    "plt.ylim(.9,1.5)\n",
    "\n",
    "#plt.title(f'$\\mathbf{{A}}$-norm error bounds: $f(x) = \\sqrt{{x}}$, circle contour')\n",
    "plt.xlabel('number of matvecs: $k$')\n",
    "\n",
    "plt.savefig('imgs/ch6_sign.pdf')\n",
    "#plt.close()"
   ]
  },
  {
   "cell_type": "code",
   "execution_count": null,
   "metadata": {},
   "outputs": [],
   "source": []
  }
 ],
 "metadata": {
  "kernelspec": {
   "display_name": "Python 3",
   "language": "python",
   "name": "python3"
  },
  "language_info": {
   "codemirror_mode": {
    "name": "ipython",
    "version": 3
   },
   "file_extension": ".py",
   "mimetype": "text/x-python",
   "name": "python",
   "nbconvert_exporter": "python",
   "pygments_lexer": "ipython3",
   "version": "3.8.3"
  }
 },
 "nbformat": 4,
 "nbformat_minor": 4
}
