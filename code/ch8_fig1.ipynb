{
 "cells": [
  {
   "cell_type": "code",
   "execution_count": 1,
   "metadata": {},
   "outputs": [],
   "source": [
    "import numpy as np\n",
    "import matplotlib.pyplot as plt\n",
    "from matplotlib.lines import Line2D\n",
    "import matplotlib as mpl\n",
    "\n",
    "import math \n",
    "\n",
    "from bin import *\n",
    "\n",
    "from IPython.display import clear_output\n",
    "%load_ext autoreload\n",
    "%autoreload 2"
   ]
  },
  {
   "cell_type": "code",
   "execution_count": 2,
   "metadata": {},
   "outputs": [],
   "source": [
    "mpl.use(\"pgf\")\n",
    "\n",
    "mpl.rcParams.update({\n",
    "    \"pgf.texsystem\": \"lualatex\",\n",
    "    'font.family': 'serif',\n",
    "    'font.size' : 8,\n",
    "    'text.usetex': True,\n",
    "    'pgf.rcfonts': False,\n",
    "    'pgf.preamble': tex_preamble,\n",
    "})"
   ]
  },
  {
   "cell_type": "markdown",
   "metadata": {},
   "source": [
    "## Setup"
   ]
  },
  {
   "cell_type": "code",
   "execution_count": 3,
   "metadata": {},
   "outputs": [],
   "source": [
    "n = 50\n",
    "Λ = model_problem_spectrum(n,.8,1e3).astype(np.longdouble)\n",
    "b = np.ones(n,dtype=np.longdouble)\n",
    "b /= np.linalg.norm(b)\n",
    "\n",
    "λmin = np.min(Λ).astype(np.double)\n",
    "λmax = np.max(Λ).astype(np.double)\n",
    "κ = λmax / λmin"
   ]
  },
  {
   "cell_type": "code",
   "execution_count": 4,
   "metadata": {},
   "outputs": [],
   "source": [
    "w = 0\n",
    "\n",
    "# norm to measure function approximation and linear system errors\n",
    "B = Λ**2#np.ones(n)\n",
    "\n",
    "A = np.diag(Λ)"
   ]
  },
  {
   "cell_type": "code",
   "execution_count": 5,
   "metadata": {},
   "outputs": [],
   "source": [
    "K = 100\n",
    "Q,(a_,b_) = lanczos_reorth(A.astype(np.single),b.astype(np.single),K,reorth=0)\n",
    "\n",
    "Q,(a_,b_) = Q.astype(np.double),(a_.astype(np.double),b_.astype(np.double))\n",
    "\n",
    "K_exact = 40\n",
    "Q_exact,(a_exact,b_exact) = lanczos_reorth(A,b,K_exact,reorth=K_exact)"
   ]
  },
  {
   "cell_type": "code",
   "execution_count": 6,
   "metadata": {},
   "outputs": [],
   "source": [
    "T = np.diag(a_) + np.diag(b_[:-1],1) + np.diag(b_[:-1],-1)\n",
    "F_roundoff = A@Q[:,:-1] - Q[:,:-1]@T\n",
    "F_roundoff[:,-1] -= b_[-1]*Q[:,-1]"
   ]
  },
  {
   "cell_type": "code",
   "execution_count": 7,
   "metadata": {},
   "outputs": [],
   "source": [
    "plot_tol = 1e-20"
   ]
  },
  {
   "cell_type": "code",
   "execution_count": 8,
   "metadata": {},
   "outputs": [],
   "source": [
    "T = np.zeros((3,K),dtype=np.double)\n",
    "T[0,1:] = b_[:-1]\n",
    "T[1] = a_-w\n",
    "T[2,:-1] = b_[:-1]\n",
    "\n",
    "e0 = np.zeros(K+1)\n",
    "e0[0] = 1"
   ]
  },
  {
   "cell_type": "code",
   "execution_count": 9,
   "metadata": {},
   "outputs": [],
   "source": [
    "err_CG = np.full(K,np.nan)\n",
    "\n",
    "for k in range(0,K):\n",
    "    try:\n",
    "        e = (1/(Λ-w))*b - lanczos_FA(lambda x:1/(x-w),Q,a_,b_,k,normb=np.linalg.norm(b))\n",
    "        err_CG[k] = np.sqrt( e.T*B@e )\n",
    "    except: pass\n",
    "    \n",
    "    if err_CG[k] < plot_tol:\n",
    "        break"
   ]
  },
  {
   "cell_type": "code",
   "execution_count": 10,
   "metadata": {},
   "outputs": [],
   "source": [
    "res_CG = np.full(K,np.nan)\n",
    "\n",
    "for k in range(0,K):\n",
    "    try:\n",
    "        r = b - A@lanczos_FA(lambda x:1/(x-w),Q,a_,b_,k,normb=np.linalg.norm(b))\n",
    "        res_CG[k] = np.sqrt( r@r )\n",
    "    except: pass\n",
    "    \n",
    "    if res_CG[k] < plot_tol:\n",
    "        break"
   ]
  },
  {
   "cell_type": "markdown",
   "metadata": {},
   "source": [
    "## $f(x) = 1/\\sqrt{x}$, $\\Gamma =$ circle"
   ]
  },
  {
   "cell_type": "code",
   "execution_count": 11,
   "metadata": {},
   "outputs": [],
   "source": [
    "def f(x):\n",
    "    return np.sqrt(x)\n",
    "\n",
    "fAb = f(Λ)*b"
   ]
  },
  {
   "cell_type": "code",
   "execution_count": 12,
   "metadata": {},
   "outputs": [],
   "source": [
    "err_lanczos = np.full(K,np.nan)\n",
    "\n",
    "for k in range(0,K):\n",
    "    try:\n",
    "        e = fAb - lanczos_FA(f,Q.astype(np.double),a_,b_,k,normb=np.linalg.norm(b))\n",
    "        err_lanczos[k] = np.sqrt( e.T*B@e )\n",
    "    except: pass\n",
    "    \n",
    "    if err_lanczos[k] < plot_tol:\n",
    "        break"
   ]
  },
  {
   "cell_type": "code",
   "execution_count": 13,
   "metadata": {},
   "outputs": [],
   "source": [
    "err_lanczos_exact = np.full(K,np.nan)\n",
    "\n",
    "for k in range(0,K_exact):\n",
    "    try:\n",
    "        e = fAb - lanczos_FA(f,Q_exact,a_exact,b_exact,k,normb=np.linalg.norm(b))\n",
    "        err_lanczos_exact[k] = np.sqrt( e.T*B@e )\n",
    "    except: pass\n",
    "    \n",
    "    if err_lanczos_exact[k] < plot_tol:\n",
    "        break"
   ]
  },
  {
   "cell_type": "code",
   "execution_count": 14,
   "metadata": {},
   "outputs": [],
   "source": [
    "def Gamma(t):\n",
    "    z = np.exp((np.pi)*1j)*t\n",
    "    dz = np.exp((np.pi)*1j)\n",
    "    \n",
    "    return z,dz"
   ]
  },
  {
   "cell_type": "code",
   "execution_count": 15,
   "metadata": {},
   "outputs": [],
   "source": [
    "a_priori_bound_circle = np.full(K,np.inf)\n",
    "a_posteriori_bound_circle = np.full(K,np.inf)\n",
    "\n",
    "for k in range(1,K):\n",
    "    a_priori_bound_circle[k-1] = 2*get_a_priori_bound(f,Gamma,[0,np.inf],k,w,λmin,λmax)[0]\n",
    "    a_posteriori_bound_circle[k-1] = 2*get_a_posteriori_bound(f,Gamma,[0,np.inf],a_[:k],b_[:k-1],w,λmin,λmax)[0]"
   ]
  },
  {
   "cell_type": "code",
   "execution_count": 16,
   "metadata": {},
   "outputs": [
    {
     "name": "stderr",
     "output_type": "stream",
     "text": [
      "<ipython-input-16-112006ce432a>:28: IntegrationWarning: The integral is probably divergent, or slowly convergent.\n",
      "  integral = sp.integrate.quad(F,0,np.inf,epsabs=0,limit=200)\n"
     ]
    }
   ],
   "source": [
    "f_norms_full = np.full(K,np.nan)\n",
    "\n",
    "for k in range(1,K):\n",
    "    theta = sp.linalg.eigvalsh_tridiagonal(a_[:k],b_[:k-1],tol=1e-30)\n",
    "\n",
    "    e0 = np.zeros(k,dtype='complex')\n",
    "    e0[0] = 1\n",
    "    \n",
    "    T = np.zeros((3,k),dtype='complex')\n",
    "    T[0,:-1] = b_[:k-1]\n",
    "    T[1] = a_[:k] - w\n",
    "    T[2,1:] = b_[:k-1]\n",
    "    \n",
    "    Twinve0 = sp.linalg.solve_banded((1, 1), T, e0)\n",
    "    \n",
    "    def F(t):\n",
    "\n",
    "        z,dz = Gamma(t)\n",
    "        \n",
    "        T[1] = a_[:k] - z\n",
    "\n",
    "        Tzinve0 = sp.linalg.solve_banded((1, 1), T, e0)\n",
    "\n",
    "        fk = F_roundoff[:,:k]@ (Tzinve0 - np.prod((theta-w)/(theta-z)) * Twinve0)\n",
    "        \n",
    "        return (1/(2*np.pi)) * np.abs(f(z)) * Q_wz(w,z,λmin,λmax) * np.linalg.norm(fk) * np.abs(dz)\n",
    "        \n",
    "    integral = sp.integrate.quad(F,0,np.inf,epsabs=0,limit=200) \n",
    "    \n",
    "    f_norms_full[k-1] = 2*integral[0]\n"
   ]
  },
  {
   "cell_type": "code",
   "execution_count": 17,
   "metadata": {},
   "outputs": [],
   "source": [
    "fig = plt.figure(figsize=(figure_width*cm,figure_height*cm))\n",
    "ax = fig.add_axes([left, bottom, width, height])\n",
    "\n",
    "ax.plot(a_posteriori_bound_circle*err_CG,**line_styles['l4'])\n",
    "ax.plot(a_priori_bound_circle*err_CG,**line_styles['l3'])\n",
    "ax.plot(err_lanczos_exact,**line_styles['l2'])\n",
    "ax.plot(err_lanczos,**line_styles['l1'])\n",
    "\n",
    "ax.set_xlabel('number of matvecs: $k$')\n",
    "ax.set_yscale('log')\n",
    "\n",
    "ax.set_ylim(1e-5,1e5)\n",
    "\n",
    "ax.set_xlabel('number of matvecs: $k$')\n",
    "ax.set_yscale('log')\n",
    "ax.grid(True,linestyle=':',linewidth=.5)\n",
    "\n",
    "#ax.legend()\n",
    "\n",
    "plt.savefig('imgs/ch8_CIF.pdf')\n",
    "plt.close()"
   ]
  },
  {
   "cell_type": "code",
   "execution_count": null,
   "metadata": {},
   "outputs": [],
   "source": []
  }
 ],
 "metadata": {
  "kernelspec": {
   "display_name": "Python 3",
   "language": "python",
   "name": "python3"
  },
  "language_info": {
   "codemirror_mode": {
    "name": "ipython",
    "version": 3
   },
   "file_extension": ".py",
   "mimetype": "text/x-python",
   "name": "python",
   "nbconvert_exporter": "python",
   "pygments_lexer": "ipython3",
   "version": "3.8.3"
  }
 },
 "nbformat": 4,
 "nbformat_minor": 4
}
