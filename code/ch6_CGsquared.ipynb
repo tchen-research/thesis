{
 "cells": [
  {
   "cell_type": "code",
   "execution_count": 1,
   "metadata": {},
   "outputs": [],
   "source": [
    "import numpy as np\n",
    "import matplotlib.pyplot as plt\n",
    "import matplotlib as mpl\n",
    "\n",
    "import math \n",
    "\n",
    "from bin import *\n",
    "\n",
    "from IPython.display import clear_output\n",
    "%load_ext autoreload\n",
    "%autoreload 2"
   ]
  },
  {
   "cell_type": "code",
   "execution_count": 2,
   "metadata": {},
   "outputs": [],
   "source": [
    "mpl.use(\"pgf\")\n",
    "\n",
    "mpl.rcParams.update({\n",
    "    \"pgf.texsystem\": \"lualatex\",\n",
    "    'font.family': 'serif',\n",
    "    'font.size' : 8,\n",
    "    'text.usetex': True,\n",
    "    'pgf.rcfonts': False,\n",
    "    'pgf.preamble': tex_preamble,\n",
    "})"
   ]
  },
  {
   "cell_type": "code",
   "execution_count": 3,
   "metadata": {},
   "outputs": [],
   "source": [
    "dl=.005\n",
    "lam0 = np.arange(1,10+dl/2,dl)\n",
    "lam1 = np.hstack([np.arange(-1.5,-1+dl/2,dl),np.arange(1,10+dl/2,dl)])\n",
    "lam2 = np.hstack([np.arange(-10,-1+dl/2,dl),np.arange(1,10+dl/2,dl)])\n",
    "#lam3 = np.hstack([np.arange(-10,-1+dl/2,dl),np.arange(1,10+dl/2,dl)])\n",
    "\n",
    "lams = [lam0,lam1,lam2]\n",
    "\n",
    "params = [(1,.05),(1,.05),(1,.05)]"
   ]
  },
  {
   "cell_type": "code",
   "execution_count": 4,
   "metadata": {},
   "outputs": [],
   "source": [
    "A,C = 0,1\n",
    "K = 61\n",
    "\n",
    "error_FA = np.full((3,K),np.nan)\n",
    "error_OR = np.full((3,K),np.nan)\n",
    "error_CG2 = np.full((3,K//2+1),np.nan)\n",
    "    \n",
    "for trial_idx in range(3):\n",
    "    \n",
    "    a,c = params[trial_idx]\n",
    "    Λ = lams[trial_idx].astype(np.float64)\n",
    "    \n",
    "    A_mat = np.diag(Λ)\n",
    "    n = len(Λ)\n",
    "    b_vec = np.ones(n,dtype=np.double)\n",
    "    b_vec /= np.linalg.norm(b_vec)\n",
    "\n",
    "    M = lambda x: (A*x**2+C)\n",
    "    N = lambda x: (a*x**2+c)\n",
    "    f = lambda x: M(x)/N(x)\n",
    "    \n",
    "    fAb = f(Λ)*b_vec\n",
    "    \n",
    "    Q,(a_,b_) = lanczos_reorth(A_mat,b_vec,K,reorth=K)\n",
    "    Q2,(a2_,b2_) = lanczos_reorth(A_mat**2,b_vec,K,reorth=K)\n",
    "\n",
    "    for i in range(1,K):\n",
    "        \n",
    "        # Lanczos-FA\n",
    "        # solve via eigenvalue because breakdown in factorization\n",
    "        T = np.diag(a_[:i]) + np.diag(b_[:i-1],1) + np.diag(b_[:i-1],-1)\n",
    "        lank_FA = Q[:,:i]@np.linalg.solve(a*T@T+c*np.eye(i),(A*T@T+C*np.eye(i))[:,0])\n",
    "        error_FA[trial_idx][i] = np.linalg.norm(N(Λ)**.5*(fAb - lank_FA))\n",
    "\n",
    "        \n",
    "        # Lancos-OR-lm\n",
    "        lan_lm= streaming_banded_rational(n,i,(A,0,C),(a,0,c))\n",
    "        for j in range(i):\n",
    "            lan_lm.read_stream(Q[:,j],a_[j],b_[j])\n",
    "        lan_lm.finish_up()      \n",
    "            \n",
    "        error_OR[trial_idx][i] = np.linalg.norm(N(Λ)**.5*(fAb - lan_lm()))\n",
    "        \n",
    "    for i in range(1,K//2+1):\n",
    "        \n",
    "        # msCG\n",
    "        T2 = np.diag(a2_[:i]) + np.diag(b2_[:i-1],1) + np.diag(b2_[:i-1],-1)        \n",
    "        CG2k = Q2[:,:i]@np.linalg.solve(a*T2+c*np.eye(i),(A*T2+C*np.eye(i))[:,0])\n",
    "        error_CG2[trial_idx][i] = np.linalg.norm(N(Λ)**.5*(fAb - CG2k))"
   ]
  },
  {
   "cell_type": "code",
   "execution_count": 5,
   "metadata": {},
   "outputs": [],
   "source": [
    "fig = plt.figure(figsize=(figure_width*cm,figure_height*cm))\n",
    "\n",
    "axs = []\n",
    "axs.append(fig.add_axes([left, bottom, width3, height]))\n",
    "axs.append(fig.add_axes([left+hoffset3, bottom, width3, height]))\n",
    "axs.append(fig.add_axes([left+2*hoffset3, bottom, width3, height]))\n",
    "\n",
    "for trial_idx in range(3):\n",
    "    axs[trial_idx].plot(np.arange(K),error_FA[trial_idx]/np.linalg.norm(N(A_mat)**.5*b_vec)\\\n",
    "                        ,**line_styles['l2'],label='lanczos-FA')\n",
    "    axs[trial_idx].plot(np.arange(0,K+1,2),error_CG2[trial_idx]/np.linalg.norm(N(A_mat)**.5*b_vec)\\\n",
    "                        ,**line_styles['l3'],label='msCG')\n",
    "    axs[trial_idx].plot(np.arange(K),error_OR[trial_idx]/np.linalg.norm(N(A_mat)**.5*b_vec)\\\n",
    "                        ,**line_styles['l1'],label='lanczos-OR')\n",
    "    \n",
    "    axs[trial_idx].set_yscale('log')\n",
    "    axs[trial_idx].set_ylim(1e-14,1e2)\n",
    "    axs[trial_idx].set_xlabel('number of matvecs: $k$')\n",
    "\n",
    "    axs[trial_idx].grid(True,linestyle=':',linewidth=.5)\n",
    "\n",
    "axs[1].set_yticklabels('')\n",
    "axs[2].set_yticklabels('')\n",
    "\n",
    "plt.savefig(f'imgs/ch6_lanczos_msCG_squared.pdf')"
   ]
  },
  {
   "cell_type": "code",
   "execution_count": null,
   "metadata": {},
   "outputs": [],
   "source": []
  }
 ],
 "metadata": {
  "kernelspec": {
   "display_name": "Python 3",
   "language": "python",
   "name": "python3"
  },
  "language_info": {
   "codemirror_mode": {
    "name": "ipython",
    "version": 3
   },
   "file_extension": ".py",
   "mimetype": "text/x-python",
   "name": "python",
   "nbconvert_exporter": "python",
   "pygments_lexer": "ipython3",
   "version": "3.8.3"
  }
 },
 "nbformat": 4,
 "nbformat_minor": 4
}
