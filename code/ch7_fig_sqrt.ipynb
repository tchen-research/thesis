{
 "cells": [
  {
   "cell_type": "code",
   "execution_count": 1,
   "metadata": {},
   "outputs": [],
   "source": [
    "import numpy as np\n",
    "import matplotlib.pyplot as plt\n",
    "from matplotlib.lines import Line2D\n",
    "import matplotlib as mpl\n",
    "\n",
    "import math \n",
    "\n",
    "from bin import *\n",
    "\n",
    "from IPython.display import clear_output\n",
    "%load_ext autoreload\n",
    "%autoreload 2"
   ]
  },
  {
   "cell_type": "code",
   "execution_count": 2,
   "metadata": {},
   "outputs": [],
   "source": [
    "mpl.use(\"pgf\")\n",
    "\n",
    "mpl.rcParams.update({\n",
    "    \"pgf.texsystem\": \"lualatex\",\n",
    "    'font.family': 'serif',\n",
    "    'font.size' : 8,\n",
    "    'text.usetex': True,\n",
    "    'pgf.rcfonts': False,\n",
    "    'pgf.preamble': tex_preamble,\n",
    "})"
   ]
  },
  {
   "cell_type": "markdown",
   "metadata": {},
   "source": [
    "## Setup"
   ]
  },
  {
   "cell_type": "code",
   "execution_count": 3,
   "metadata": {},
   "outputs": [],
   "source": [
    "n = 1000\n",
    "Λ = np.linspace(1,1e1,n)\n",
    "b = np.ones(n,dtype=np.longdouble)\n",
    "b /= np.linalg.norm(b)\n",
    "\n",
    "λmin = np.min(Λ).astype(np.double)\n",
    "λmax = np.max(Λ).astype(np.double)\n",
    "kappa = λmax / λmin\n",
    "\n",
    "λmin_ = λmin/2\n",
    "λmax_ = 2*λmax"
   ]
  },
  {
   "cell_type": "code",
   "execution_count": 4,
   "metadata": {},
   "outputs": [],
   "source": [
    "w = 0\n",
    "\n",
    "# norm to measure function approximation and linear system errors\n",
    "B = Λ\n",
    "\n",
    "A = np.diag(Λ)"
   ]
  },
  {
   "cell_type": "code",
   "execution_count": 5,
   "metadata": {},
   "outputs": [],
   "source": [
    "K = 41\n",
    "Q,(a_,b_) = lanczos_reorth(A,b,K,reorth=K)"
   ]
  },
  {
   "cell_type": "code",
   "execution_count": 6,
   "metadata": {},
   "outputs": [],
   "source": [
    "plot_tol = 1e-14"
   ]
  },
  {
   "cell_type": "code",
   "execution_count": 7,
   "metadata": {},
   "outputs": [],
   "source": [
    "T = np.zeros((3,K))\n",
    "T[0,1:] = b_[:-1]\n",
    "T[1] = a_-w\n",
    "T[2,:-1] = b_[:-1]\n",
    "\n",
    "e1 = np.zeros(K+1)\n",
    "e1[0] = 1"
   ]
  },
  {
   "cell_type": "code",
   "execution_count": 8,
   "metadata": {},
   "outputs": [],
   "source": [
    "err_CG = np.full(K,np.nan)\n",
    "\n",
    "for k in range(0,K):\n",
    "    try:\n",
    "        e = (1/(Λ-w))*b - np.linalg.norm(b)*Q[:,:k+1]@sp.linalg.solve_banded((1,1),T[:,:k+1],e1[:k+1])\n",
    "        err_CG[k] = np.sqrt( e.T*B@e )\n",
    "    except: pass\n",
    "    \n",
    "    if err_CG[k] < plot_tol:\n",
    "        break"
   ]
  },
  {
   "cell_type": "code",
   "execution_count": 9,
   "metadata": {},
   "outputs": [],
   "source": [
    "res_CG = np.full(K,np.nan)\n",
    "\n",
    "for k in range(0,K):\n",
    "    try:\n",
    "        r = b - np.linalg.norm(b)*(Λ-w)*(Q[:,:k+1]@sp.linalg.solve_banded((1,1),T[:,:k+1],e1[:k+1]))\n",
    "        res_CG[k] = np.sqrt( r@r )\n",
    "    except: pass\n",
    "    \n",
    "    if res_CG[k] < plot_tol:\n",
    "        break"
   ]
  },
  {
   "cell_type": "code",
   "execution_count": 10,
   "metadata": {},
   "outputs": [],
   "source": [
    "Anorm_estimate = np.full(K,np.nan)\n",
    "Anorm_bound = np.full(K,np.nan)\n",
    "\n",
    "d = 10\n",
    "\n",
    "for k in range(0,K):\n",
    "    try:\n",
    "        Tk_inv_e1 = sp.linalg.solve_banded((1,1),T[:,:k+1],e1[:k+1])\n",
    "        e = (1/(Λ-w))*b - np.linalg.norm(b)*Q[:,:k+1]@Tk_inv_e1\n",
    "                \n",
    "        if k+d+1<K:\n",
    "            Tkd_inv_e1 = sp.linalg.solve_banded((1,1),T[:,:k+d+1],e1[:k+d+1])\n",
    "            \n",
    "        Anorm_estimate[k] = np.linalg.norm(b)*np.sqrt(e1[:k+d+1]@Tkd_inv_e1 - e1[:k+1]@Tk_inv_e1)\n",
    "        Anorm_bound[k] = np.sqrt(np.linalg.norm(b)**2*(e1[:k+d+1]@Tkd_inv_e1 - e1[:k+1]@Tk_inv_e1) + (1/λmin) * res_CG[k+d+1]**2)\n",
    "\n",
    "        \n",
    "    except: pass\n",
    "    \n",
    "    if err_CG[k] < plot_tol:\n",
    "        break"
   ]
  },
  {
   "cell_type": "markdown",
   "metadata": {},
   "source": [
    "## $f(x) = \\sqrt{x}$, $\\Gamma =$ circle"
   ]
  },
  {
   "cell_type": "code",
   "execution_count": 11,
   "metadata": {},
   "outputs": [],
   "source": [
    "def f(x):\n",
    "    return np.sqrt(x)\n",
    "\n",
    "fAb = f(Λ)*b"
   ]
  },
  {
   "cell_type": "code",
   "execution_count": 12,
   "metadata": {},
   "outputs": [],
   "source": [
    "err_lanczos = np.full(K,np.nan)\n",
    "\n",
    "for k in range(0,K):\n",
    "    try:\n",
    "        e = fAb - lanczos_FA(f,Q.astype(np.double),a_,b_,k,normb=np.linalg.norm(b))\n",
    "        err_lanczos[k] = np.sqrt( e.T*B@e )\n",
    "    except: pass\n",
    "    \n",
    "    if err_lanczos[k] < plot_tol:\n",
    "        break"
   ]
  },
  {
   "cell_type": "code",
   "execution_count": 13,
   "metadata": {},
   "outputs": [],
   "source": [
    "a_priori_bound_circle = np.full(K,np.inf)\n",
    "a_posteriori_bound_circle = np.full(K,np.inf)\n",
    "exact_bound_circle = np.full(K,np.inf)\n",
    "\n",
    "def Gamma(t):\n",
    "    \n",
    "    radius = λmax-λmin/100\n",
    "\n",
    "    z = radius*np.exp(1j*t)+λmax\n",
    "    dz = radius*1j*np.exp(1j*t)\n",
    "    \n",
    "    return z,dz\n",
    "\n",
    "for k in range(0,K):\n",
    "    a_priori_bound_circle[k] = 2*get_a_priori_bound(f,Gamma,[0,np.pi],k,w,λmin,λmax)[0]\n",
    "    a_posteriori_bound_circle[k] = 2*get_a_posteriori_bound(f,Gamma,[0,np.pi],a_[:k],b_[:k-1],w,λmin,λmax)[0]\n",
    "    exact_bound_circle[k] = 2*get_exact_bound(f,Gamma,[0,np.pi],a_[:k],b_[:k-1],w,Λ)[0]"
   ]
  },
  {
   "cell_type": "code",
   "execution_count": 14,
   "metadata": {},
   "outputs": [],
   "source": [
    "a_priori_bound_circle_approx_spectrum = np.full(K,np.inf)\n",
    "a_posteriori_bound_circle_approx_spectrum = np.full(K,np.inf)\n",
    "    \n",
    "def Gamma(t):\n",
    "\n",
    "    radius = λmax_ - λmin_/100\n",
    "\n",
    "    z = radius*np.exp(1j*t)+λmax_\n",
    "    dz = radius*1j*np.exp(1j*t)\n",
    "    \n",
    "    return z,dz\n",
    "\n",
    "for k in range(0,K):\n",
    "    a_priori_bound_circle_approx_spectrum[k] = 2*get_a_priori_bound(f,Gamma,[0,np.pi],k,w,λmin_,λmax_)[0]\n",
    "    a_posteriori_bound_circle_approx_spectrum[k] = 2*get_a_posteriori_bound(f,Gamma,[0,np.pi],a_[:k],b_[:k-1],w,λmin_,λmax_)[0]"
   ]
  },
  {
   "cell_type": "markdown",
   "metadata": {},
   "source": [
    "## $f(x) = \\sqrt{x}$, $\\Gamma=$ line away from origin"
   ]
  },
  {
   "cell_type": "code",
   "execution_count": 15,
   "metadata": {},
   "outputs": [],
   "source": [
    "a_priori_bound_wedge = np.full(K,np.inf)\n",
    "a_posteriori_bound_wedge = np.full(K,np.inf)\n",
    "\n",
    "def Gamma(t):\n",
    "    z = 1e-15j - 1*t\n",
    "    dz = -1\n",
    "    \n",
    "    return z,dz\n",
    "\n",
    "for k in range(1,K):\n",
    "    a_priori_bound_wedge[k] = 2*get_a_priori_bound(f,Gamma,[0,np.inf],k,w,λmin,λmax)[0]\n",
    "    a_posteriori_bound_wedge[k] = 2*get_a_posteriori_bound(f,Gamma,[0,np.inf],a_[:k],b_[:k-1],w,λmin,λmax)[0]"
   ]
  },
  {
   "cell_type": "code",
   "execution_count": 16,
   "metadata": {},
   "outputs": [],
   "source": [
    "a_priori_bound_wedge_approx_spectrum = np.full(K,np.inf)\n",
    "a_posteriori_bound_wedge_approx_spectrum = np.full(K,np.inf)\n",
    "\n",
    "def Gamma(t):\n",
    "    z = 1e-16j - 1*t\n",
    "    dz = -1\n",
    "    \n",
    "    return z,dz\n",
    "\n",
    "for k in range(1,K):\n",
    "    a_priori_bound_wedge_approx_spectrum[k] = 2*get_a_priori_bound(f,Gamma,[0,np.inf],k,w,λmin_,λmax_)[0]\n",
    "    a_posteriori_bound_wedge_approx_spectrum[k] = 2*get_a_posteriori_bound(f,Gamma,[0,np.inf],a_[:k],b_[:k-1],w,λmin_,λmax_)[0]\n"
   ]
  },
  {
   "cell_type": "code",
   "execution_count": 17,
   "metadata": {},
   "outputs": [],
   "source": [
    "fig = plt.figure(figsize=(figure_width*cm,figure_height*cm))\n",
    "\n",
    "axs = []\n",
    "axs.append(fig.add_axes([left, bottom, width2, height]))\n",
    "axs.append(fig.add_axes([left+hoffset2, bottom, width2, height]))\n",
    "\n",
    "ks = np.arange(K)\n",
    "\n",
    "axs[0].plot(ks,(a_priori_bound_circle_approx_spectrum*err_CG),\\\n",
    "        **line_styles['l4'])\n",
    "#ax.plot(ks,(a_posteriori_bound_circle_approx_spectrum*err_CG),\\\n",
    "#        color=colors[2],marker=markers[2],ms=m_sizes[2],lw=.5)\n",
    "\n",
    "axs[0].plot(ks,(a_priori_bound_circle*err_CG),\\\n",
    "        **line_styles['l3'])\n",
    "axs[0].plot(ks,(a_posteriori_bound_circle*err_CG),\\\n",
    "        **line_styles['l2'])\n",
    "\n",
    "axs[0].plot(ks,err_lanczos,\\\n",
    "        **line_styles['l1'])\n",
    "\n",
    "axs[0].set_xlabel('number of matvecs: $k$')\n",
    "axs[0].set_yscale('log')\n",
    "axs[0].grid(True,linestyle=':',linewidth=.5)\n",
    "\n",
    "\n",
    "axs[1].plot(ks,(a_priori_bound_wedge_approx_spectrum*err_CG),\\\n",
    "        **line_styles['l4'])\n",
    "#ax.plot(ks,(a_posteriori_bound_wedge_approx_spectrum*err_CG),\\\n",
    "#        color=colors[2],marker=markers[2],ms=m_sizes[2],lw=.5)\n",
    "\n",
    "axs[1].plot(ks,(a_priori_bound_wedge*err_CG),\\\n",
    "        **line_styles['l3'])\n",
    "axs[1].plot(ks,(a_posteriori_bound_wedge*err_CG),\\\n",
    "        **line_styles['l2'])\n",
    "\n",
    "axs[1].plot(ks,err_lanczos,\\\n",
    "        **line_styles['l1'])\n",
    "\n",
    "axs[1].set_xlabel('number of matvecs: $k$')\n",
    "axs[1].set_yscale('log')\n",
    "axs[1].grid(True,linestyle=':',linewidth=.5)\n",
    "\n",
    "axs[1].set_yticklabels('')\n",
    "\n",
    "axs[0].set_ylim(1e-14,5e1)\n",
    "axs[1].set_ylim(1e-14,5e1)\n",
    "\n",
    "plt.savefig('imgs/ch7_sqrt_Anorm.pdf')\n",
    "#plt.close()"
   ]
  },
  {
   "cell_type": "code",
   "execution_count": null,
   "metadata": {},
   "outputs": [],
   "source": []
  }
 ],
 "metadata": {
  "kernelspec": {
   "display_name": "Python 3",
   "language": "python",
   "name": "python3"
  },
  "language_info": {
   "codemirror_mode": {
    "name": "ipython",
    "version": 3
   },
   "file_extension": ".py",
   "mimetype": "text/x-python",
   "name": "python",
   "nbconvert_exporter": "python",
   "pygments_lexer": "ipython3",
   "version": "3.8.3"
  }
 },
 "nbformat": 4,
 "nbformat_minor": 4
}
